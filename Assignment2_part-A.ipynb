{
  "cells": [
    {
      "cell_type": "code",
      "execution_count": null,
      "metadata": {
        "id": "M24RSsIcIHMj"
      },
      "outputs": [],
      "source": [
        "!nvidia-smi"
      ]
    },
    {
      "cell_type": "code",
      "execution_count": null,
      "metadata": {
        "id": "8RVJyFw104yJ"
      },
      "outputs": [],
      "source": [
        "import torch\n",
        "import torchvision\n",
        "import torchvision.transforms as transforms\n",
        "import torch.nn as nn\n",
        "import torch.optim as optim\n",
        "from torchvision.datasets import ImageFolder\n",
        "import matplotlib.pyplot as plt\n",
        "import numpy as np\n",
        "import tqdm\n",
        "import torch.optim as optim\n",
        "import torch.nn.functional as F\n",
        "from torch.utils.data import random_split\n",
        "\n"
      ]
    },
    {
      "cell_type": "code",
      "execution_count": null,
      "metadata": {
        "id": "CyPqQbJ12Wyg"
      },
      "outputs": [],
      "source": [
        "!pip install wget\n",
        "import wget\n",
        "wget.download('https://storage.googleapis.com/wandb_datasets/nature_12K.zip')\n",
        "!unzip /content/nature_12K.zip"
      ]
    },
    {
      "cell_type": "markdown",
      "metadata": {
        "id": "vznckqxP1WRs"
      },
      "source": [
        "#**Dataset creation** \n",
        "Created dataloaders with batch size=32(I dont vary batch size as it was creating out of memory issue with higher values)\n",
        "Outputs show the size of one batch(used for debugging)"
      ]
    },
    {
      "cell_type": "code",
      "execution_count": null,
      "metadata": {
        "colab": {
          "base_uri": "https://localhost:8080/"
        },
        "id": "-u6Ge_7f-PfU",
        "outputId": "9f0585be-aea4-4b96-ec58-740839ca0cc0"
      },
      "outputs": [
        {
          "name": "stdout",
          "output_type": "stream",
          "text": [
            "Data loader: (<torch.utils.data.dataloader.DataLoader object at 0x7fdbbb0746d0>, <torch.utils.data.dataloader.DataLoader object at 0x7fdbbb074550>)\n",
            "Length of train dataset loader:250\n",
            "Data loader: (<torch.utils.data.dataloader.DataLoader object at 0x7fdbbb0746d0>, <torch.utils.data.dataloader.DataLoader object at 0x7fdbbb074550>)\n",
            "Length of val dataset loader:63\n"
          ]
        },
        {
          "data": {
            "text/plain": [
              "(torch.Size([32, 3, 224, 224]), torch.Size([32]))"
            ]
          },
          "execution_count": 4,
          "metadata": {},
          "output_type": "execute_result"
        }
      ],
      "source": [
        "def dataset_creation(data_augmentation=True):\n",
        "  if data_augmentation:\n",
        "    train_transforms = transforms.Compose([\n",
        "        transforms.RandomResizedCrop((224,224)),\n",
        "        transforms.RandomHorizontalFlip(),\n",
        "        transforms.RandomRotation(degrees=30),\n",
        "        transforms.ColorJitter(brightness=0.4, contrast=0.4, saturation=0.4, hue=0.1),\n",
        "        transforms.RandomAffine(degrees=30, translate=(0.1, 0.1), scale=(0.8, 1.2), shear=10),\n",
        "        transforms.ToTensor(),\n",
        "        transforms.Normalize([0.485, 0.456, 0.406], [0.229, 0.224, 0.225])\n",
        "        #These values are standard values used in imagenet competition\n",
        "    ])\n",
        "  else:\n",
        "        train_transforms = transforms.Compose([\n",
        "        transforms.RandomResizedCrop((224,224)),\n",
        "        transforms.ToTensor(),\n",
        "        transforms.Normalize([0.485, 0.456, 0.406], [0.229, 0.224, 0.225])\n",
        "        #These values are standard values used in imagenet competition\n",
        "    ])\n",
        "  \n",
        "  val_transforms = transforms.Compose([\n",
        "      transforms.Resize((224,224)),\n",
        "      transforms.ToTensor(),\n",
        "      transforms.Normalize([0.485, 0.456, 0.406], [0.229, 0.224, 0.225])\n",
        "      #These values are standard values used in imagenet competition\n",
        "      #target_transform=None for creating a non-augmented dataset\n",
        "  ])\n",
        "\n",
        "  # Create training and validation datasets\n",
        "  train_dataset = ImageFolder('/content/inaturalist_12K/train', transform=train_transforms)\n",
        "  train_size = int(0.8 * len(train_dataset))\n",
        "  val_size = len(train_dataset) - train_size\n",
        "  train_dataset, val_dataset = random_split(train_dataset, [train_size, val_size])\n",
        "  test_dataset = ImageFolder('/content/inaturalist_12K/val', transform=val_transforms)\n",
        "   \n",
        "  # Create training and validation data loaders\n",
        "  #Need to add this in the main function and make batch_size hyperparameter from 32 to 64\n",
        "  BATCH_SIZE=32\n",
        "  train_loader = torch.utils.data.DataLoader(train_dataset, batch_size=BATCH_SIZE, shuffle=True, num_workers=2)\n",
        "  val_loader = torch.utils.data.DataLoader(val_dataset, batch_size=BATCH_SIZE, shuffle=False, num_workers=2)\n",
        "  return train_loader,val_loader\n",
        "\n",
        "train_loader,val_loader=dataset_creation()\n",
        "\n",
        "print(f\"Data loader: {train_loader,val_loader}\")\n",
        "print(f\"Length of train dataset loader:{len(train_loader)}\")\n",
        "\n",
        "print(f\"Data loader: {train_loader,val_loader}\")\n",
        "print(f\"Length of val dataset loader:{len(val_loader)}\")\n",
        "train_features_batch,train_labels_batch=next(iter(train_loader))\n",
        "train_features_batch.shape,train_labels_batch.shape"
      ]
    },
    {
      "cell_type": "markdown",
      "metadata": {
        "id": "OMCD6FjTkTZz"
      },
      "source": [
        "# **Visualizing dataset**\n",
        "This code block is also for debugging the transforms"
      ]
    },
    {
      "cell_type": "code",
      "execution_count": null,
      "metadata": {
        "id": "S5KxwNCH_Fvd"
      },
      "outputs": [],
      "source": [
        "'''import warnings\n",
        "warnings.filterwarnings(\"ignore\")\n",
        "image,label=[],[]\n",
        "for i in range(2):\n",
        " a,b=train_dataset[3000+20*i]\n",
        " image.append(a)\n",
        " label.append(b)\n",
        "\n",
        "class_names=train_dataset.classes\n",
        "print(f\"class_names are: {class_names}\")\n",
        "class_to_idx=train_dataset.class_to_idx\n",
        "print(f\"class_to_idx: {class_to_idx}\")\n",
        "for i in range(len(image)):\n",
        " print(f\"image shape is:{image[i].shape} and class name:{class_names[label[i]]}\")\n",
        "\n",
        "\n",
        "#We get cropped and trasformed images!!\n",
        "\n",
        "for i in range(len(image)):\n",
        " plt.imshow(image[i].permute(1, 2, 0))\n",
        " plt.title(f\"Class: {class_names[label[i]]}\")\n",
        " plt.axis(False)\n",
        " plt.show()'''"
      ]
    },
    {
      "cell_type": "code",
      "execution_count": null,
      "metadata": {
        "id": "RgWUpT3PBqrO"
      },
      "outputs": [],
      "source": [
        "!pip install --upgrade wandb\n",
        "!wandb login aa5afea12b4fda1e7f8310b597eb17c73d1176d2 #my API key for wandb login \n",
        "import wandb"
      ]
    },
    {
      "cell_type": "markdown",
      "metadata": {
        "id": "YlLMSRR-21sz"
      },
      "source": [
        "# **Model**\n",
        "Created MyModel class which is my CNN architecture\n",
        "(I have repeated the same class, again for )"
      ]
    },
    {
      "cell_type": "code",
      "execution_count": null,
      "metadata": {
        "id": "9ARivbHAkXyB"
      },
      "outputs": [],
      "source": [
        "class MyModel(nn.Module):\n",
        "    def __init__(self, num_filter=[16,16,16,16,16], kernel_size=[5, 5, 5, 5, 5], stride=[1, 1, 1, 1, 1], padding=[1, 1, 1, 1, 1], activation='relu',batch_normalization='True',dropout=0.2):\n",
        "        super(MyModel, self).__init__()\n",
        "        self.num_filter = num_filter\n",
        "        self.kernel_size = kernel_size\n",
        "        self.stride = stride\n",
        "        self.padding = padding\n",
        "        self.activation = activation\n",
        "        self.batch_normalization=batch_normalization\n",
        "\n",
        "        self.conv1 = nn.Conv2d(3, num_filter[0], kernel_size=kernel_size[0], stride=stride[0], padding=padding[0])\n",
        "        self.bn1 = nn.BatchNorm2d(num_filter[0])\n",
        "        self.dropout1 = nn.Dropout(dropout)\n",
        "        self.conv2 = nn.Conv2d(num_filter[0], num_filter[1], kernel_size=kernel_size[1], stride=stride[1], padding=padding[1])\n",
        "        self.bn2 = nn.BatchNorm2d(num_filter[1])\n",
        "        self.dropout2 = nn.Dropout(dropout)\n",
        "        self.conv3 = nn.Conv2d(num_filter[1], num_filter[2], kernel_size=kernel_size[2], stride=stride[2], padding=padding[2])\n",
        "        self.bn3 = nn.BatchNorm2d(num_filter[2])\n",
        "        self.dropout3 = nn.Dropout(dropout)\n",
        "        self.conv4 = nn.Conv2d(num_filter[2], num_filter[3], kernel_size=kernel_size[3], stride=stride[3], padding=padding[3])\n",
        "        self.bn4 = nn.BatchNorm2d(num_filter[3])\n",
        "        self.dropout4 = nn.Dropout(dropout)\n",
        "        self.conv5 = nn.Conv2d(num_filter[3], num_filter[4], kernel_size=kernel_size[4], stride=stride[4], padding=padding[4])\n",
        "        self.bn5 = nn.BatchNorm2d(num_filter[4])\n",
        "        self.dropout5 = nn.Dropout(dropout)\n",
        "\n",
        "        if activation == 'relu':\n",
        "            self.activation = nn.ReLU()\n",
        "        elif activation == 'gelu':\n",
        "            self.activation = nn.GELU()\n",
        "        elif activation == 'elu':\n",
        "            self.activation = nn.ELU()\n",
        "        elif activation == 'silu':\n",
        "            self.activation = nn.SiLU()\n",
        "        \n",
        "        self.pooling = nn.MaxPool2d(kernel_size=2)\n",
        "        self.avgpool=nn.AdaptiveAvgPool2d(output_size=(1, 1))\n",
        "        self.dense=nn.Linear(num_filter[4],256)\n",
        "        self.fc = nn.Linear(256, 10)\n",
        "\n",
        "\n",
        "    def forward(self, x):\n",
        "        x = self.conv1(x)\n",
        "        if self.batch_normalization: x = self.bn1(x)         \n",
        "        x = self.activation(x)\n",
        "        x=self.dropout1(x)\n",
        "        x = self.pooling(x)\n",
        "      \n",
        "        x = self.conv2(x)\n",
        "        if self.batch_normalization: x = self.bn2(x)\n",
        "        x = self.activation(x)\n",
        "        x=self.dropout2(x)\n",
        "        x = self.pooling(x)\n",
        "\n",
        "        x = self.conv3(x)\n",
        "        if self.batch_normalization: x = self.bn3(x)\n",
        "        x = self.activation(x)\n",
        "        x=self.dropout3(x)\n",
        "        x = self.pooling(x)\n",
        "\n",
        "        x = self.conv4(x)\n",
        "        if self.batch_normalization: x = self.bn4(x)\n",
        "        x = self.activation(x)\n",
        "        x=self.dropout4(x)\n",
        "        x = self.pooling(x)\n",
        "\n",
        "        x = self.conv5(x)\n",
        "        if self.batch_normalization: x = self.bn5(x)\n",
        "        x = self.activation(x)\n",
        "        x=self.dropout5(x)\n",
        "        x = self.pooling(x)\n",
        "\n",
        "        x = self.avgpool(x)#read why cant we use maxpooling here\n",
        "        x = torch.flatten(x, 1)\n",
        "        x = self.dense(x)\n",
        "        x = self.fc(x)\n",
        "\n",
        "        return x\n",
        "    \n"
      ]
    },
    {
      "cell_type": "code",
      "execution_count": null,
      "metadata": {
        "id": "hWtpuGRmCWz3"
      },
      "outputs": [],
      "source": [
        "train_loader,val_loader=dataset_creation()\n",
        "device = torch.device(\"cuda\" if torch.cuda.is_available() else \"cpu\")"
      ]
    },
    {
      "cell_type": "code",
      "execution_count": null,
      "metadata": {
        "id": "Is0qZqbAth6-"
      },
      "outputs": [],
      "source": [
        "#Script used for debugging\n",
        "'''\n",
        "import torch\n",
        "torch.cuda.empty_cache()\n",
        "if torch.cuda.is_available():\n",
        "  print('Using GPU...!')\n",
        "else:\n",
        "  print('Using CPU...!(terminate the runtime and restart using GPU)')\n",
        "\n",
        "# Initialize model, loss function, and optimizer\n",
        "\n",
        "model = MyModel( num_filter=[32,64,128,256,512],kernel_size=[3,3,5,5,7] ,activation='elu').to(device)\n",
        "model.fit_train()\n",
        "summary(model,(3,224,224))'''"
      ]
    },
    {
      "cell_type": "code",
      "execution_count": null,
      "metadata": {
        "id": "xH1NscH8-JkF"
      },
      "outputs": [],
      "source": [
        "!pip install --upgrade wandb\n",
        "!wandb login aa5afea12b4fda1e7f8310b597eb17c73d1176d2 #my API key for wandb login \n",
        "import wandb"
      ]
    },
    {
      "cell_type": "markdown",
      "source": [
        "# **Sweeping over the Hyperparameters**"
      ],
      "metadata": {
        "id": "RXRL4S2Dcohe"
      }
    },
    {
      "cell_type": "code",
      "execution_count": null,
      "metadata": {
        "colab": {
          "base_uri": "https://localhost:8080/",
          "height": 1000,
          "referenced_widgets": [
            "70701e9ba925495ebbac9bb81be92948",
            "7e7924ca837440ed8a68efd7c54c3c64",
            "0746e5b1a2254b209fab7d6039f5367c",
            "68c7cf49cd824f3ca3389282184ceba6",
            "05a283a2e241403d9e532e791bbf588b",
            "cc5a71a5721c4ccbb79f4ad7e3896366",
            "a1ae437256884f9fac58372701a9da81",
            "a70a2608dfa6443d8f88d69c3d24f992",
            "16ec71a4aa204d43b0daa24910560915",
            "7b0c3140437343c1b6cc172f0e836ff3",
            "971ada15bddd469886cc3bf159f5ade6",
            "116258f111c743ae94c013bf63ad0687",
            "d674d18f6bc24e44ba982d15ab54049f",
            "066bb3e266f142af8542104dbfa560b9",
            "0ac09f7f09654c22ad7e8df9c1572996",
            "1444a5c6b8f14c4cb601e1144fabcaf5"
          ]
        },
        "id": "Rl_k9cuI7p8Q",
        "outputId": "c71e24f9-7400-4331-a3f2-e6fae67e9609"
      },
      "outputs": [
        {
          "name": "stdout",
          "output_type": "stream",
          "text": [
            "Create sweep with ID: ifwvwpk1\n",
            "Sweep URL: https://wandb.ai/shreyashgadgil007/CS6910-Assignment2/sweeps/ifwvwpk1\n"
          ]
        },
        {
          "name": "stderr",
          "output_type": "stream",
          "text": [
            "\u001b[34m\u001b[1mwandb\u001b[0m: Agent Starting Run: sti2tdqc with config:\n",
            "\u001b[34m\u001b[1mwandb\u001b[0m: \tactivation: elu\n",
            "\u001b[34m\u001b[1mwandb\u001b[0m: \tbatch_norm: True\n",
            "\u001b[34m\u001b[1mwandb\u001b[0m: \tdata_augmentation: True\n",
            "\u001b[34m\u001b[1mwandb\u001b[0m: \tdropout: 0.4\n",
            "\u001b[34m\u001b[1mwandb\u001b[0m: \tkernel_size: [3, 3, 3, 3, 3]\n",
            "\u001b[34m\u001b[1mwandb\u001b[0m: \tnum_filter: [256, 256, 256, 256, 256]\n",
            "\u001b[34m\u001b[1mwandb\u001b[0m: Currently logged in as: \u001b[33mshreyashgadgil007\u001b[0m. Use \u001b[1m`wandb login --relogin`\u001b[0m to force relogin\n",
            "\u001b[34m\u001b[1mwandb\u001b[0m: \u001b[33mWARNING\u001b[0m Ignored wandb.init() arg project when running a sweep.\n",
            "\u001b[34m\u001b[1mwandb\u001b[0m: \u001b[33mWARNING\u001b[0m Ignored wandb.init() arg entity when running a sweep.\n"
          ]
        },
        {
          "data": {
            "text/html": [
              "Tracking run with wandb version 0.14.2"
            ],
            "text/plain": [
              "<IPython.core.display.HTML object>"
            ]
          },
          "metadata": {},
          "output_type": "display_data"
        },
        {
          "data": {
            "text/html": [
              "Run data is saved locally in <code>/content/wandb/run-20230411_012721-sti2tdqc</code>"
            ],
            "text/plain": [
              "<IPython.core.display.HTML object>"
            ]
          },
          "metadata": {},
          "output_type": "display_data"
        },
        {
          "data": {
            "text/html": [
              "Syncing run <strong><a href='https://wandb.ai/shreyashgadgil007/CS6910-Assignment2/runs/sti2tdqc' target=\"_blank\">stoic-sweep-1</a></strong> to <a href='https://wandb.ai/shreyashgadgil007/CS6910-Assignment2' target=\"_blank\">Weights & Biases</a> (<a href='https://wandb.me/run' target=\"_blank\">docs</a>)<br/>Sweep page: <a href='https://wandb.ai/shreyashgadgil007/CS6910-Assignment2/sweeps/ifwvwpk1' target=\"_blank\">https://wandb.ai/shreyashgadgil007/CS6910-Assignment2/sweeps/ifwvwpk1</a>"
            ],
            "text/plain": [
              "<IPython.core.display.HTML object>"
            ]
          },
          "metadata": {},
          "output_type": "display_data"
        },
        {
          "data": {
            "text/html": [
              " View project at <a href='https://wandb.ai/shreyashgadgil007/CS6910-Assignment2' target=\"_blank\">https://wandb.ai/shreyashgadgil007/CS6910-Assignment2</a>"
            ],
            "text/plain": [
              "<IPython.core.display.HTML object>"
            ]
          },
          "metadata": {},
          "output_type": "display_data"
        },
        {
          "data": {
            "text/html": [
              " View sweep at <a href='https://wandb.ai/shreyashgadgil007/CS6910-Assignment2/sweeps/ifwvwpk1' target=\"_blank\">https://wandb.ai/shreyashgadgil007/CS6910-Assignment2/sweeps/ifwvwpk1</a>"
            ],
            "text/plain": [
              "<IPython.core.display.HTML object>"
            ]
          },
          "metadata": {},
          "output_type": "display_data"
        },
        {
          "data": {
            "text/html": [
              " View run at <a href='https://wandb.ai/shreyashgadgil007/CS6910-Assignment2/runs/sti2tdqc' target=\"_blank\">https://wandb.ai/shreyashgadgil007/CS6910-Assignment2/runs/sti2tdqc</a>"
            ],
            "text/plain": [
              "<IPython.core.display.HTML object>"
            ]
          },
          "metadata": {},
          "output_type": "display_data"
        },
        {
          "name": "stdout",
          "output_type": "stream",
          "text": [
            "----------------------------------------------------------------\n",
            "        Layer (type)               Output Shape         Param #\n",
            "================================================================\n",
            "            Conv2d-1        [-1, 256, 224, 224]           7,168\n",
            "       BatchNorm2d-2        [-1, 256, 224, 224]             512\n",
            "               ELU-3        [-1, 256, 224, 224]               0\n",
            "           Dropout-4        [-1, 256, 224, 224]               0\n",
            "         MaxPool2d-5        [-1, 256, 112, 112]               0\n",
            "            Conv2d-6        [-1, 256, 112, 112]         590,080\n",
            "       BatchNorm2d-7        [-1, 256, 112, 112]             512\n",
            "               ELU-8        [-1, 256, 112, 112]               0\n",
            "           Dropout-9        [-1, 256, 112, 112]               0\n",
            "        MaxPool2d-10          [-1, 256, 56, 56]               0\n",
            "           Conv2d-11          [-1, 256, 56, 56]         590,080\n",
            "      BatchNorm2d-12          [-1, 256, 56, 56]             512\n",
            "              ELU-13          [-1, 256, 56, 56]               0\n",
            "          Dropout-14          [-1, 256, 56, 56]               0\n",
            "        MaxPool2d-15          [-1, 256, 28, 28]               0\n",
            "           Conv2d-16          [-1, 256, 28, 28]         590,080\n",
            "      BatchNorm2d-17          [-1, 256, 28, 28]             512\n",
            "              ELU-18          [-1, 256, 28, 28]               0\n",
            "          Dropout-19          [-1, 256, 28, 28]               0\n",
            "        MaxPool2d-20          [-1, 256, 14, 14]               0\n",
            "           Conv2d-21          [-1, 256, 14, 14]         590,080\n",
            "      BatchNorm2d-22          [-1, 256, 14, 14]             512\n",
            "              ELU-23          [-1, 256, 14, 14]               0\n",
            "          Dropout-24          [-1, 256, 14, 14]               0\n",
            "        MaxPool2d-25            [-1, 256, 7, 7]               0\n",
            "AdaptiveAvgPool2d-26            [-1, 256, 1, 1]               0\n",
            "           Linear-27                  [-1, 256]          65,792\n",
            "           Linear-28                   [-1, 10]           2,570\n",
            "================================================================\n",
            "Total params: 2,438,410\n",
            "Trainable params: 2,438,410\n",
            "Non-trainable params: 0\n",
            "----------------------------------------------------------------\n",
            "Input size (MB): 0.57\n",
            "Forward/backward pass size (MB): 554.79\n",
            "Params size (MB): 9.30\n",
            "Estimated Total Size (MB): 564.67\n",
            "----------------------------------------------------------------\n",
            "Epoch 1/15--> Training_Loss:2.23; Train_Accuracy:18.96; Validation_Loss:2.19; Val_Accuracy:19.75\n",
            "Epoch 2/15--> Training_Loss:2.19; Train_Accuracy:19.80; Validation_Loss:2.23; Val_Accuracy:19.20\n",
            "Epoch 3/15--> Training_Loss:2.16; Train_Accuracy:20.99; Validation_Loss:2.14; Val_Accuracy:21.65\n",
            "Epoch 4/15--> Training_Loss:2.16; Train_Accuracy:21.40; Validation_Loss:2.16; Val_Accuracy:21.85\n",
            "Epoch 5/15--> Training_Loss:2.16; Train_Accuracy:22.07; Validation_Loss:2.15; Val_Accuracy:21.35\n",
            "Epoch 6/15--> Training_Loss:2.14; Train_Accuracy:22.29; Validation_Loss:2.17; Val_Accuracy:20.55\n",
            "Epoch 7/15--> Training_Loss:2.13; Train_Accuracy:22.55; Validation_Loss:2.29; Val_Accuracy:16.95\n",
            "Epoch 8/15--> Training_Loss:2.12; Train_Accuracy:23.18; Validation_Loss:2.20; Val_Accuracy:18.80\n",
            "Epoch 9/15--> Training_Loss:2.12; Train_Accuracy:23.73; Validation_Loss:2.12; Val_Accuracy:21.40\n",
            "Epoch 10/15--> Training_Loss:2.11; Train_Accuracy:23.39; Validation_Loss:2.30; Val_Accuracy:17.90\n",
            "Epoch 11/15--> Training_Loss:2.09; Train_Accuracy:25.30; Validation_Loss:2.06; Val_Accuracy:26.40\n",
            "Epoch 12/15--> Training_Loss:2.08; Train_Accuracy:25.05; Validation_Loss:2.18; Val_Accuracy:21.25\n",
            "Epoch 13/15--> Training_Loss:2.08; Train_Accuracy:25.02; Validation_Loss:2.14; Val_Accuracy:24.10\n",
            "Epoch 14/15--> Training_Loss:2.06; Train_Accuracy:26.25; Validation_Loss:2.12; Val_Accuracy:25.05\n",
            "Epoch 15/15--> Training_Loss:2.06; Train_Accuracy:26.44; Validation_Loss:2.23; Val_Accuracy:22.05\n"
          ]
        },
        {
          "data": {
            "text/html": [
              "Waiting for W&B process to finish... <strong style=\"color:green\">(success).</strong>"
            ],
            "text/plain": [
              "<IPython.core.display.HTML object>"
            ]
          },
          "metadata": {},
          "output_type": "display_data"
        },
        {
          "data": {
            "application/vnd.jupyter.widget-view+json": {
              "model_id": "70701e9ba925495ebbac9bb81be92948",
              "version_major": 2,
              "version_minor": 0
            },
            "text/plain": [
              "VBox(children=(Label(value='0.001 MB of 0.001 MB uploaded (0.000 MB deduped)\\r'), FloatProgress(value=1.0, max…"
            ]
          },
          "metadata": {},
          "output_type": "display_data"
        },
        {
          "data": {
            "text/html": [
              "<style>\n",
              "    table.wandb td:nth-child(1) { padding: 0 10px; text-align: left ; width: auto;} td:nth-child(2) {text-align: left ; width: 100%}\n",
              "    .wandb-row { display: flex; flex-direction: row; flex-wrap: wrap; justify-content: flex-start; width: 100% }\n",
              "    .wandb-col { display: flex; flex-direction: column; flex-basis: 100%; flex: 1; padding: 10px; }\n",
              "    </style>\n",
              "<div class=\"wandb-row\"><div class=\"wandb-col\"><h3>Run history:</h3><br/><table class=\"wandb\"><tr><td>train_accuracy</td><td>▁▂▃▃▄▄▄▅▅▅▇▇▇██</td></tr><tr><td>train_loss</td><td>█▇▅▅▅▅▄▄▃▃▂▂▂▁▁</td></tr><tr><td>val_accuracy</td><td>▃▃▄▅▄▄▁▂▄▂█▄▆▇▅</td></tr><tr><td>val_loss</td><td>▅▆▃▄▄▄█▅▃█▁▄▃▃▆</td></tr></table><br/></div><div class=\"wandb-col\"><h3>Run summary:</h3><br/><table class=\"wandb\"><tr><td>train_accuracy</td><td>26.44081</td></tr><tr><td>train_loss</td><td>2.06435</td></tr><tr><td>val_accuracy</td><td>22.05</td></tr><tr><td>val_loss</td><td>2.22723</td></tr></table><br/></div></div>"
            ],
            "text/plain": [
              "<IPython.core.display.HTML object>"
            ]
          },
          "metadata": {},
          "output_type": "display_data"
        },
        {
          "data": {
            "text/html": [
              " View run <strong style=\"color:#cdcd00\">stoic-sweep-1</strong> at: <a href='https://wandb.ai/shreyashgadgil007/CS6910-Assignment2/runs/sti2tdqc' target=\"_blank\">https://wandb.ai/shreyashgadgil007/CS6910-Assignment2/runs/sti2tdqc</a><br/>Synced 5 W&B file(s), 0 media file(s), 0 artifact file(s) and 0 other file(s)"
            ],
            "text/plain": [
              "<IPython.core.display.HTML object>"
            ]
          },
          "metadata": {},
          "output_type": "display_data"
        },
        {
          "data": {
            "text/html": [
              "Find logs at: <code>./wandb/run-20230411_012721-sti2tdqc/logs</code>"
            ],
            "text/plain": [
              "<IPython.core.display.HTML object>"
            ]
          },
          "metadata": {},
          "output_type": "display_data"
        },
        {
          "name": "stderr",
          "output_type": "stream",
          "text": [
            "\u001b[34m\u001b[1mwandb\u001b[0m: Agent Starting Run: dhrm422q with config:\n",
            "\u001b[34m\u001b[1mwandb\u001b[0m: \tactivation: relu\n",
            "\u001b[34m\u001b[1mwandb\u001b[0m: \tbatch_norm: True\n",
            "\u001b[34m\u001b[1mwandb\u001b[0m: \tdata_augmentation: False\n",
            "\u001b[34m\u001b[1mwandb\u001b[0m: \tdropout: 0.4\n",
            "\u001b[34m\u001b[1mwandb\u001b[0m: \tkernel_size: [5, 5, 5, 5, 5]\n",
            "\u001b[34m\u001b[1mwandb\u001b[0m: \tnum_filter: [64, 128, 256, 512, 1024]\n",
            "\u001b[34m\u001b[1mwandb\u001b[0m: \u001b[33mWARNING\u001b[0m Ignored wandb.init() arg project when running a sweep.\n",
            "\u001b[34m\u001b[1mwandb\u001b[0m: \u001b[33mWARNING\u001b[0m Ignored wandb.init() arg entity when running a sweep.\n"
          ]
        },
        {
          "data": {
            "text/html": [
              "Tracking run with wandb version 0.14.2"
            ],
            "text/plain": [
              "<IPython.core.display.HTML object>"
            ]
          },
          "metadata": {},
          "output_type": "display_data"
        },
        {
          "data": {
            "text/html": [
              "Run data is saved locally in <code>/content/wandb/run-20230411_022101-dhrm422q</code>"
            ],
            "text/plain": [
              "<IPython.core.display.HTML object>"
            ]
          },
          "metadata": {},
          "output_type": "display_data"
        },
        {
          "data": {
            "text/html": [
              "Syncing run <strong><a href='https://wandb.ai/shreyashgadgil007/CS6910-Assignment2/runs/dhrm422q' target=\"_blank\">amber-sweep-2</a></strong> to <a href='https://wandb.ai/shreyashgadgil007/CS6910-Assignment2' target=\"_blank\">Weights & Biases</a> (<a href='https://wandb.me/run' target=\"_blank\">docs</a>)<br/>Sweep page: <a href='https://wandb.ai/shreyashgadgil007/CS6910-Assignment2/sweeps/ifwvwpk1' target=\"_blank\">https://wandb.ai/shreyashgadgil007/CS6910-Assignment2/sweeps/ifwvwpk1</a>"
            ],
            "text/plain": [
              "<IPython.core.display.HTML object>"
            ]
          },
          "metadata": {},
          "output_type": "display_data"
        },
        {
          "data": {
            "text/html": [
              " View project at <a href='https://wandb.ai/shreyashgadgil007/CS6910-Assignment2' target=\"_blank\">https://wandb.ai/shreyashgadgil007/CS6910-Assignment2</a>"
            ],
            "text/plain": [
              "<IPython.core.display.HTML object>"
            ]
          },
          "metadata": {},
          "output_type": "display_data"
        },
        {
          "data": {
            "text/html": [
              " View sweep at <a href='https://wandb.ai/shreyashgadgil007/CS6910-Assignment2/sweeps/ifwvwpk1' target=\"_blank\">https://wandb.ai/shreyashgadgil007/CS6910-Assignment2/sweeps/ifwvwpk1</a>"
            ],
            "text/plain": [
              "<IPython.core.display.HTML object>"
            ]
          },
          "metadata": {},
          "output_type": "display_data"
        },
        {
          "data": {
            "text/html": [
              " View run at <a href='https://wandb.ai/shreyashgadgil007/CS6910-Assignment2/runs/dhrm422q' target=\"_blank\">https://wandb.ai/shreyashgadgil007/CS6910-Assignment2/runs/dhrm422q</a>"
            ],
            "text/plain": [
              "<IPython.core.display.HTML object>"
            ]
          },
          "metadata": {},
          "output_type": "display_data"
        },
        {
          "name": "stdout",
          "output_type": "stream",
          "text": [
            "----------------------------------------------------------------\n",
            "        Layer (type)               Output Shape         Param #\n",
            "================================================================\n",
            "            Conv2d-1         [-1, 64, 222, 222]           4,864\n",
            "       BatchNorm2d-2         [-1, 64, 222, 222]             128\n",
            "              ReLU-3         [-1, 64, 222, 222]               0\n",
            "           Dropout-4         [-1, 64, 222, 222]               0\n",
            "         MaxPool2d-5         [-1, 64, 111, 111]               0\n",
            "            Conv2d-6        [-1, 128, 109, 109]         204,928\n",
            "       BatchNorm2d-7        [-1, 128, 109, 109]             256\n",
            "              ReLU-8        [-1, 128, 109, 109]               0\n",
            "           Dropout-9        [-1, 128, 109, 109]               0\n",
            "        MaxPool2d-10          [-1, 128, 54, 54]               0\n",
            "           Conv2d-11          [-1, 256, 52, 52]         819,456\n",
            "      BatchNorm2d-12          [-1, 256, 52, 52]             512\n",
            "             ReLU-13          [-1, 256, 52, 52]               0\n",
            "          Dropout-14          [-1, 256, 52, 52]               0\n",
            "        MaxPool2d-15          [-1, 256, 26, 26]               0\n",
            "           Conv2d-16          [-1, 512, 24, 24]       3,277,312\n",
            "      BatchNorm2d-17          [-1, 512, 24, 24]           1,024\n",
            "             ReLU-18          [-1, 512, 24, 24]               0\n",
            "          Dropout-19          [-1, 512, 24, 24]               0\n",
            "        MaxPool2d-20          [-1, 512, 12, 12]               0\n",
            "           Conv2d-21         [-1, 1024, 10, 10]      13,108,224\n",
            "      BatchNorm2d-22         [-1, 1024, 10, 10]           2,048\n",
            "             ReLU-23         [-1, 1024, 10, 10]               0\n",
            "          Dropout-24         [-1, 1024, 10, 10]               0\n",
            "        MaxPool2d-25           [-1, 1024, 5, 5]               0\n",
            "AdaptiveAvgPool2d-26           [-1, 1024, 1, 1]               0\n",
            "           Linear-27                  [-1, 256]         262,400\n",
            "           Linear-28                   [-1, 10]           2,570\n",
            "================================================================\n",
            "Total params: 17,683,722\n",
            "Trainable params: 17,683,722\n",
            "Non-trainable params: 0\n",
            "----------------------------------------------------------------\n",
            "Input size (MB): 0.57\n",
            "Forward/backward pass size (MB): 186.87\n",
            "Params size (MB): 67.46\n",
            "Estimated Total Size (MB): 254.90\n",
            "----------------------------------------------------------------\n",
            "Epoch 1/15--> Training_Loss:2.24; Train_Accuracy:18.96; Validation_Loss:2.17; Val_Accuracy:19.75\n",
            "Epoch 2/15--> Training_Loss:2.14; Train_Accuracy:23.13; Validation_Loss:2.15; Val_Accuracy:21.90\n",
            "Epoch 3/15--> Training_Loss:2.11; Train_Accuracy:24.30; Validation_Loss:2.15; Val_Accuracy:21.25\n",
            "Epoch 4/15--> Training_Loss:2.07; Train_Accuracy:25.49; Validation_Loss:2.18; Val_Accuracy:18.20\n",
            "Epoch 5/15--> Training_Loss:2.04; Train_Accuracy:26.92; Validation_Loss:2.13; Val_Accuracy:22.30\n",
            "Epoch 6/15--> Training_Loss:2.03; Train_Accuracy:27.47; Validation_Loss:2.14; Val_Accuracy:23.55\n",
            "Epoch 7/15--> Training_Loss:1.99; Train_Accuracy:28.73; Validation_Loss:2.11; Val_Accuracy:22.25\n",
            "Epoch 8/15--> Training_Loss:1.97; Train_Accuracy:29.64; Validation_Loss:2.10; Val_Accuracy:24.35\n",
            "Epoch 9/15--> Training_Loss:1.93; Train_Accuracy:31.37; Validation_Loss:2.09; Val_Accuracy:24.80\n",
            "Epoch 10/15--> Training_Loss:1.92; Train_Accuracy:31.63; Validation_Loss:2.10; Val_Accuracy:23.95\n",
            "Epoch 11/15--> Training_Loss:1.90; Train_Accuracy:32.63; Validation_Loss:2.18; Val_Accuracy:21.40\n",
            "Epoch 12/15--> Training_Loss:1.87; Train_Accuracy:34.25; Validation_Loss:2.08; Val_Accuracy:26.60\n",
            "Epoch 13/15--> Training_Loss:1.86; Train_Accuracy:34.38; Validation_Loss:2.09; Val_Accuracy:22.40\n",
            "Epoch 14/15--> Training_Loss:1.85; Train_Accuracy:34.73; Validation_Loss:2.15; Val_Accuracy:21.90\n",
            "Epoch 15/15--> Training_Loss:1.83; Train_Accuracy:35.37; Validation_Loss:2.15; Val_Accuracy:26.05\n"
          ]
        },
        {
          "data": {
            "text/html": [
              "Waiting for W&B process to finish... <strong style=\"color:green\">(success).</strong>"
            ],
            "text/plain": [
              "<IPython.core.display.HTML object>"
            ]
          },
          "metadata": {},
          "output_type": "display_data"
        },
        {
          "data": {
            "application/vnd.jupyter.widget-view+json": {
              "model_id": "16ec71a4aa204d43b0daa24910560915",
              "version_major": 2,
              "version_minor": 0
            },
            "text/plain": [
              "VBox(children=(Label(value='0.001 MB of 0.001 MB uploaded (0.000 MB deduped)\\r'), FloatProgress(value=1.0, max…"
            ]
          },
          "metadata": {},
          "output_type": "display_data"
        },
        {
          "data": {
            "text/html": [
              "<style>\n",
              "    table.wandb td:nth-child(1) { padding: 0 10px; text-align: left ; width: auto;} td:nth-child(2) {text-align: left ; width: 100%}\n",
              "    .wandb-row { display: flex; flex-direction: row; flex-wrap: wrap; justify-content: flex-start; width: 100% }\n",
              "    .wandb-col { display: flex; flex-direction: column; flex-basis: 100%; flex: 1; padding: 10px; }\n",
              "    </style>\n",
              "<div class=\"wandb-row\"><div class=\"wandb-col\"><h3>Run history:</h3><br/><table class=\"wandb\"><tr><td>train_accuracy</td><td>▁▃▃▄▄▅▅▆▆▆▇████</td></tr><tr><td>train_loss</td><td>█▆▆▅▅▄▄▃▃▃▂▂▂▁▁</td></tr><tr><td>val_accuracy</td><td>▂▄▄▁▄▅▄▆▆▆▄█▄▄█</td></tr><tr><td>val_loss</td><td>▇▆▆█▅▅▃▃▂▂█▁▂▆▆</td></tr></table><br/></div><div class=\"wandb-col\"><h3>Run summary:</h3><br/><table class=\"wandb\"><tr><td>train_accuracy</td><td>35.36692</td></tr><tr><td>train_loss</td><td>1.82519</td></tr><tr><td>val_accuracy</td><td>26.05</td></tr><tr><td>val_loss</td><td>2.15366</td></tr></table><br/></div></div>"
            ],
            "text/plain": [
              "<IPython.core.display.HTML object>"
            ]
          },
          "metadata": {},
          "output_type": "display_data"
        },
        {
          "data": {
            "text/html": [
              " View run <strong style=\"color:#cdcd00\">amber-sweep-2</strong> at: <a href='https://wandb.ai/shreyashgadgil007/CS6910-Assignment2/runs/dhrm422q' target=\"_blank\">https://wandb.ai/shreyashgadgil007/CS6910-Assignment2/runs/dhrm422q</a><br/>Synced 5 W&B file(s), 0 media file(s), 0 artifact file(s) and 0 other file(s)"
            ],
            "text/plain": [
              "<IPython.core.display.HTML object>"
            ]
          },
          "metadata": {},
          "output_type": "display_data"
        },
        {
          "data": {
            "text/html": [
              "Find logs at: <code>./wandb/run-20230411_022101-dhrm422q/logs</code>"
            ],
            "text/plain": [
              "<IPython.core.display.HTML object>"
            ]
          },
          "metadata": {},
          "output_type": "display_data"
        },
        {
          "name": "stderr",
          "output_type": "stream",
          "text": [
            "\u001b[34m\u001b[1mwandb\u001b[0m: Agent Starting Run: jnnx7xwz with config:\n",
            "\u001b[34m\u001b[1mwandb\u001b[0m: \tactivation: relu\n",
            "\u001b[34m\u001b[1mwandb\u001b[0m: \tbatch_norm: False\n",
            "\u001b[34m\u001b[1mwandb\u001b[0m: \tdata_augmentation: True\n",
            "\u001b[34m\u001b[1mwandb\u001b[0m: \tdropout: 0.2\n",
            "\u001b[34m\u001b[1mwandb\u001b[0m: \tkernel_size: [5, 5, 5, 5, 5]\n",
            "\u001b[34m\u001b[1mwandb\u001b[0m: \tnum_filter: [64, 128, 256, 512, 1024]\n",
            "\u001b[34m\u001b[1mwandb\u001b[0m: \u001b[33mWARNING\u001b[0m Ignored wandb.init() arg project when running a sweep.\n",
            "\u001b[34m\u001b[1mwandb\u001b[0m: \u001b[33mWARNING\u001b[0m Ignored wandb.init() arg entity when running a sweep.\n"
          ]
        },
        {
          "data": {
            "text/html": [
              "Tracking run with wandb version 0.14.2"
            ],
            "text/plain": [
              "<IPython.core.display.HTML object>"
            ]
          },
          "metadata": {},
          "output_type": "display_data"
        },
        {
          "data": {
            "text/html": [
              "Run data is saved locally in <code>/content/wandb/run-20230411_030124-jnnx7xwz</code>"
            ],
            "text/plain": [
              "<IPython.core.display.HTML object>"
            ]
          },
          "metadata": {},
          "output_type": "display_data"
        },
        {
          "data": {
            "text/html": [
              "Syncing run <strong><a href='https://wandb.ai/shreyashgadgil007/CS6910-Assignment2/runs/jnnx7xwz' target=\"_blank\">avid-sweep-3</a></strong> to <a href='https://wandb.ai/shreyashgadgil007/CS6910-Assignment2' target=\"_blank\">Weights & Biases</a> (<a href='https://wandb.me/run' target=\"_blank\">docs</a>)<br/>Sweep page: <a href='https://wandb.ai/shreyashgadgil007/CS6910-Assignment2/sweeps/ifwvwpk1' target=\"_blank\">https://wandb.ai/shreyashgadgil007/CS6910-Assignment2/sweeps/ifwvwpk1</a>"
            ],
            "text/plain": [
              "<IPython.core.display.HTML object>"
            ]
          },
          "metadata": {},
          "output_type": "display_data"
        },
        {
          "data": {
            "text/html": [
              " View project at <a href='https://wandb.ai/shreyashgadgil007/CS6910-Assignment2' target=\"_blank\">https://wandb.ai/shreyashgadgil007/CS6910-Assignment2</a>"
            ],
            "text/plain": [
              "<IPython.core.display.HTML object>"
            ]
          },
          "metadata": {},
          "output_type": "display_data"
        },
        {
          "data": {
            "text/html": [
              " View sweep at <a href='https://wandb.ai/shreyashgadgil007/CS6910-Assignment2/sweeps/ifwvwpk1' target=\"_blank\">https://wandb.ai/shreyashgadgil007/CS6910-Assignment2/sweeps/ifwvwpk1</a>"
            ],
            "text/plain": [
              "<IPython.core.display.HTML object>"
            ]
          },
          "metadata": {},
          "output_type": "display_data"
        },
        {
          "data": {
            "text/html": [
              " View run at <a href='https://wandb.ai/shreyashgadgil007/CS6910-Assignment2/runs/jnnx7xwz' target=\"_blank\">https://wandb.ai/shreyashgadgil007/CS6910-Assignment2/runs/jnnx7xwz</a>"
            ],
            "text/plain": [
              "<IPython.core.display.HTML object>"
            ]
          },
          "metadata": {},
          "output_type": "display_data"
        },
        {
          "name": "stdout",
          "output_type": "stream",
          "text": [
            "----------------------------------------------------------------\n",
            "        Layer (type)               Output Shape         Param #\n",
            "================================================================\n",
            "            Conv2d-1         [-1, 64, 222, 222]           4,864\n",
            "              ReLU-2         [-1, 64, 222, 222]               0\n",
            "           Dropout-3         [-1, 64, 222, 222]               0\n",
            "         MaxPool2d-4         [-1, 64, 111, 111]               0\n",
            "            Conv2d-5        [-1, 128, 109, 109]         204,928\n",
            "              ReLU-6        [-1, 128, 109, 109]               0\n",
            "           Dropout-7        [-1, 128, 109, 109]               0\n",
            "         MaxPool2d-8          [-1, 128, 54, 54]               0\n",
            "            Conv2d-9          [-1, 256, 52, 52]         819,456\n",
            "             ReLU-10          [-1, 256, 52, 52]               0\n",
            "          Dropout-11          [-1, 256, 52, 52]               0\n",
            "        MaxPool2d-12          [-1, 256, 26, 26]               0\n",
            "           Conv2d-13          [-1, 512, 24, 24]       3,277,312\n",
            "             ReLU-14          [-1, 512, 24, 24]               0\n",
            "          Dropout-15          [-1, 512, 24, 24]               0\n",
            "        MaxPool2d-16          [-1, 512, 12, 12]               0\n",
            "           Conv2d-17         [-1, 1024, 10, 10]      13,108,224\n",
            "             ReLU-18         [-1, 1024, 10, 10]               0\n",
            "          Dropout-19         [-1, 1024, 10, 10]               0\n",
            "        MaxPool2d-20           [-1, 1024, 5, 5]               0\n",
            "AdaptiveAvgPool2d-21           [-1, 1024, 1, 1]               0\n",
            "           Linear-22                  [-1, 256]         262,400\n",
            "           Linear-23                   [-1, 10]           2,570\n",
            "================================================================\n",
            "Total params: 17,679,754\n",
            "Trainable params: 17,679,754\n",
            "Non-trainable params: 0\n",
            "----------------------------------------------------------------\n",
            "Input size (MB): 0.57\n",
            "Forward/backward pass size (MB): 142.89\n",
            "Params size (MB): 67.44\n",
            "Estimated Total Size (MB): 210.91\n",
            "----------------------------------------------------------------\n",
            "Epoch 1/15--> Training_Loss:2.28; Train_Accuracy:13.91; Validation_Loss:2.28; Val_Accuracy:14.25\n",
            "Epoch 2/15--> Training_Loss:2.23; Train_Accuracy:17.06; Validation_Loss:2.22; Val_Accuracy:19.15\n"
          ]
        }
      ],
      "source": [
        "from torchsummary import summary\n",
        "sweep_config = {\n",
        "    'method': 'bayes', #grid, random,bayes\n",
        "    'metric': {\n",
        "      'name': 'val_accuracy',\n",
        "      'goal': 'maximize'  \n",
        "    },\n",
        "    'parameters': {\n",
        "        'activation': {\n",
        "            'values': ['relu','gelu','elu','silu']\n",
        "        },\n",
        "        'num_filter': {\n",
        "            'values': [[256,256,256,256,256],[128,128,128,128,128],\n",
        "                       [64,128,256,512,1024],[64,64, 64,64,64]]\n",
        "        },        \n",
        "        'kernel_size':{\n",
        "            'values':[[3,3,3,5,5],[5,5,5,5,5],[3,3,3,3,3]]\n",
        "        },\n",
        "        'dropout':{\n",
        "            'values':[0.2,0.4]\n",
        "        },\n",
        "        'batch_norm':{\n",
        "            'values':[True,False]\n",
        "        },\n",
        "        'data_augmentation':{\n",
        "            'values':[True,False]\n",
        "        },\n",
        "        \n",
        "    }\n",
        "}\n",
        "\n",
        "sweep_id = wandb.sweep(sweep_config, entity='shreyashgadgil007', project=\"CS6910-Assignment2\")\n",
        "\n",
        "def sweep_train():\n",
        "  # Default values for hyper-parameters we're going to sweep over\n",
        "  config_defaults = {\n",
        "      'activation':'relu',\n",
        "      'num_filter':[256, 256, 256, 256, 256],\n",
        "      'kernel_size':[3,3,3,3,3],\n",
        "      'dropout':0.2,\n",
        "      'batch_norm':True,\n",
        "      'data_augmentation':True,\n",
        "  }\n",
        "\n",
        "  # Initialize a new wandb run\n",
        "  wandb.init(project='CS6910-Assignment2', entity='shreyashgadgil007',config=config_defaults)\n",
        "  wandb.run.name = 'act:'+ str(wandb.config.activation)+' ;filter:'+str(wandb.config.num_filter)+ ' ;ker:'+str(wandb.config.kernel_size)+ ' ;drop:'+str(wandb.config.dropout)+' ;b_n:'+str(wandb.config.batch_norm)+' ;d_a:'+str(wandb.config.data_augmentation)\n",
        "\n",
        "  \n",
        "  config = wandb.config\n",
        "  activation = config.activation\n",
        "  num_filter = config.num_filter\n",
        "  kernel_size = config.kernel_size\n",
        "  dropout = config.dropout\n",
        "  batch_norm = config.batch_norm\n",
        "  data_augmentation = config.data_augmentation\n",
        "  # Model training here\n",
        "  #device = torch.device(\"cuda\" if torch.cuda.is_available() else \"cpu\")\n",
        "  model = MyModel( num_filter=num_filter,kernel_size=kernel_size, activation=activation,batch_normalization=batch_norm).to(device)\n",
        "  summary(model,(3,224,224))\n",
        "  train_loader,val_loader=dataset_creation(data_augmentation)\n",
        "  criterion = nn.CrossEntropyLoss()\n",
        "  optimizer = optim.Adam(model.parameters(),lr=0.0003, betas=(0.9,0.9999))\n",
        "   # Train the model\n",
        "  num_epochs = 15\n",
        "  for epoch in range(num_epochs):\n",
        "          # Set to training mode\n",
        "          model.train()\n",
        "\n",
        "          running_loss = 0.0\n",
        "          running_corrects = 0\n",
        "          for inputs, labels in train_loader:\n",
        "              inputs, labels = inputs.to(device), labels.to(device)\n",
        "\n",
        "              optimizer.zero_grad()\n",
        "\n",
        "              outputs = model(inputs)\n",
        "              _, preds = torch.max(outputs, 1)\n",
        "              loss = criterion(outputs, labels)\n",
        "\n",
        "              loss.backward()\n",
        "              optimizer.step()\n",
        "\n",
        "              running_loss += loss.item() * inputs.size(0)\n",
        "              running_corrects += torch.sum(preds == labels.data)\n",
        "\n",
        "          train_epoch_loss = running_loss / len(train_loader.dataset)\n",
        "          train_epoch_acc = (running_corrects.double() / len(train_loader.dataset))*100\n",
        "\n",
        "          # Set to evaluation mode\n",
        "          model.eval()\n",
        "\n",
        "          running_loss = 0.0\n",
        "          running_corrects = 0\n",
        "          with torch.no_grad():\n",
        "              for inputs, labels in val_loader:\n",
        "                  inputs, labels = inputs.to(device), labels.to(device)\n",
        "\n",
        "                  # Forward pass\n",
        "                  outputs = model(inputs)\n",
        "                  _, preds = torch.max(outputs, 1)\n",
        "                  loss = criterion(outputs, labels)\n",
        "\n",
        "                  # Statistics\n",
        "                  running_loss += loss.item() * inputs.size(0)\n",
        "                  running_corrects += torch.sum(preds == labels.data)\n",
        "\n",
        "          val_epoch_loss = running_loss / len(val_loader.dataset)\n",
        "          val_epoch_acc = (running_corrects.double() / len(val_loader.dataset))*100\n",
        "          \n",
        "          print(f\"Epoch {epoch+1}/{num_epochs}--> Training_Loss:{train_epoch_loss:.2f}; Train_Accuracy:{train_epoch_acc:.2f}; Validation_Loss:{val_epoch_loss:.2f}; Val_Accuracy:{val_epoch_acc:.2f}\")\n",
        "          wandb.log({\"train_loss\":train_epoch_loss,\"train_accuracy\": train_epoch_acc,\"val_loss\":val_epoch_loss,\"val_accuracy\":val_epoch_acc},)\n",
        "          #emptying the cache after one complete run\n",
        "          if epoch==num_epochs-1:\n",
        "            torch.cuda.empty_cache()\n",
        "\n",
        "\n",
        "#RUNNING THE SWEEP\n",
        "wandb.agent(sweep_id, function=sweep_train, count=120)\n"
      ]
    },
    {
      "cell_type": "markdown",
      "source": [
        "# **Implementating best model for the test dataset and logging it to wandb**"
      ],
      "metadata": {
        "id": "PB4tmYugcxl-"
      }
    },
    {
      "cell_type": "code",
      "execution_count": null,
      "metadata": {
        "id": "kPFCfHEeti03"
      },
      "outputs": [],
      "source": [
        "def dataset_creation(data_augmentation=True):\n",
        "  if data_augmentation:\n",
        "    train_transforms = transforms.Compose([\n",
        "        transforms.RandomResizedCrop((224,224)),\n",
        "        transforms.RandomHorizontalFlip(),\n",
        "        transforms.RandomRotation(degrees=30),\n",
        "        transforms.ColorJitter(brightness=0.4, contrast=0.4, saturation=0.4, hue=0.1),\n",
        "        transforms.RandomAffine(degrees=30, translate=(0.1, 0.1), scale=(0.8, 1.2), shear=10),\n",
        "        transforms.ToTensor(),\n",
        "        transforms.Normalize([0.485, 0.456, 0.406], [0.229, 0.224, 0.225])\n",
        "    ])\n",
        "  else:\n",
        "        train_transforms = transforms.Compose([\n",
        "        transforms.RandomResizedCrop((224,224)),\n",
        "        transforms.ToTensor(),\n",
        "        transforms.Normalize([0.485, 0.456, 0.406], [0.229, 0.224, 0.225])\n",
        "    ])\n",
        "  \n",
        "  val_transforms = transforms.Compose([\n",
        "      transforms.Resize((224,224)),\n",
        "      transforms.ToTensor(),\n",
        "      transforms.Normalize([0.485, 0.456, 0.406], [0.229, 0.224, 0.225])\n",
        "  ])\n",
        "\n",
        "  # Create training and test datasets\n",
        "  train_dataset = ImageFolder('/content/inaturalist_12K/train', transform=train_transforms)\n",
        "  train_size = int(0.8 * len(train_dataset))\n",
        "  val_size = len(train_dataset) - train_size\n",
        "  train_dataset, val_dataset = random_split(train_dataset, [train_size, val_size])\n",
        "  test_dataset = ImageFolder('/content/inaturalist_12K/val', transform=val_transforms)\n",
        "   \n",
        "  # Create training and test data loaders\n",
        "  BATCH_SIZE=32\n",
        "  train_loader = torch.utils.data.DataLoader(train_dataset, batch_size=BATCH_SIZE, shuffle=True, num_workers=2)\n",
        "  test_loader = torch.utils.data.DataLoader(test_dataset, batch_size=BATCH_SIZE, shuffle=False, num_workers=2)\n",
        "  return train_loader,test_loader\n",
        "\n",
        "train_loader,test_loader=dataset_creation()\n"
      ]
    },
    {
      "cell_type": "code",
      "execution_count": null,
      "metadata": {
        "colab": {
          "background_save": true
        },
        "id": "5lU4EFgavIHX"
      },
      "outputs": [],
      "source": [
        "device = torch.device(\"cuda\" if torch.cuda.is_available() else \"cpu\")"
      ]
    },
    {
      "cell_type": "code",
      "source": [
        "from torchsummary import summary\n",
        "sweep_config = {\n",
        "    'method': 'bayes', #grid, random,bayes\n",
        "    'metric': {\n",
        "      'name': 'val_accuracy',\n",
        "      'goal': 'maximize'  \n",
        "    },\n",
        "    'parameters': {\n",
        "        'activation': {\n",
        "            'values': ['silu']\n",
        "        },\n",
        "        'num_filter': {\n",
        "            'values': [[64,128,256,512,1024]]\n",
        "        },        \n",
        "        'kernel_size':{\n",
        "            'values':[[5,5,5,5,5]]\n",
        "        },\n",
        "        'dropout':{\n",
        "            'values':[0.4]\n",
        "        },\n",
        "        'batch_norm':{\n",
        "            'values':[False]\n",
        "        },\n",
        "        'data_augmentation':{\n",
        "            'values':[False]\n",
        "        },\n",
        "        \n",
        "    }\n",
        "}\n",
        "\n",
        "sweep_id = wandb.sweep(sweep_config, entity='shreyashgadgil007', project=\"CS6910-Assignment2\")\n",
        "\n",
        "def sweep_train():\n",
        "  # Default values for hyper-parameters we're going to sweep over\n",
        "  config_defaults = {\n",
        "      'activation':'relu',\n",
        "      'num_filter':[256, 256, 256, 256, 256],\n",
        "      'kernel_size':[3,3,3,3,3],\n",
        "      'dropout':0.2,\n",
        "      'batch_norm':True,\n",
        "      'data_augmentation':True,\n",
        "  }\n",
        "\n",
        "  # Initialize a new wandb run\n",
        "  wandb.init(project='CS6910-Assignment2', entity='shreyashgadgil007',config=config_defaults)\n",
        "  wandb.run.name = 'Testing_on_the_best_combination'\n",
        "  \n",
        "  config = wandb.config\n",
        "  activation = config.activation\n",
        "  num_filter = config.num_filter\n",
        "  kernel_size = config.kernel_size\n",
        "  dropout = config.dropout\n",
        "  batch_norm = config.batch_norm\n",
        "  data_augmentation = config.data_augmentation\n",
        "  # Model training here\n",
        "  #device = torch.device(\"cuda\" if torch.cuda.is_available() else \"cpu\")\n",
        "  model = MyModel( num_filter=num_filter,kernel_size=kernel_size, activation=activation,batch_normalization=batch_norm).to(device)\n",
        "  summary(model,(3,224,224))\n",
        "  train_loader,val_loader=dataset_creation(data_augmentation)\n",
        "  criterion = nn.CrossEntropyLoss()\n",
        "  optimizer = optim.Adam(model.parameters(),lr=0.0003, betas=(0.9,0.9999))\n",
        "   # Train the model\n",
        "  num_epochs = 15\n",
        "  for epoch in range(num_epochs):\n",
        "          # Set to training mode\n",
        "          model.train()\n",
        "\n",
        "          running_loss = 0.0\n",
        "          running_corrects = 0\n",
        "          for inputs, labels in train_loader:\n",
        "              inputs, labels = inputs.to(device), labels.to(device)\n",
        "\n",
        "              optimizer.zero_grad()\n",
        "\n",
        "              outputs = model(inputs)\n",
        "              _, preds = torch.max(outputs, 1)\n",
        "              loss = criterion(outputs, labels)\n",
        "\n",
        "              loss.backward()\n",
        "              optimizer.step()\n",
        "\n",
        "              running_loss += loss.item() * inputs.size(0)\n",
        "              running_corrects += torch.sum(preds == labels.data)\n",
        "\n",
        "          train_epoch_loss = running_loss / len(train_loader.dataset)\n",
        "          train_epoch_acc = (running_corrects.double() / len(train_loader.dataset))*100\n",
        "\n",
        "          # Set to evaluation mode\n",
        "          model.eval()\n",
        "\n",
        "          running_loss = 0.0\n",
        "          running_corrects = 0\n",
        "          with torch.no_grad():\n",
        "              for inputs, labels in val_loader:\n",
        "                  inputs, labels = inputs.to(device), labels.to(device)\n",
        "\n",
        "                  # Forward pass\n",
        "                  outputs = model(inputs)\n",
        "                  _, preds = torch.max(outputs, 1)\n",
        "                  loss = criterion(outputs, labels)\n",
        "\n",
        "                  # Statistics\n",
        "                  running_loss += loss.item() * inputs.size(0)\n",
        "                  running_corrects += torch.sum(preds == labels.data)\n",
        "\n",
        "          val_epoch_loss = running_loss / len(val_loader.dataset)\n",
        "          val_epoch_acc = (running_corrects.double() / len(val_loader.dataset))*100\n",
        "          \n",
        "          print(f\"Epoch {epoch+1}/{num_epochs}--> Training_Loss:{train_epoch_loss:.2f}; Train_Accuracy:{train_epoch_acc:.2f}; Validation_Loss:{val_epoch_loss:.2f}; Val_Accuracy:{val_epoch_acc:.2f}\")\n",
        "          wandb.log({\"train_loss\":train_epoch_loss,\"train_accuracy\": train_epoch_acc,\"val_loss\":val_epoch_loss,\"val_accuracy\":val_epoch_acc},)\n",
        "          #emptying the cache after one complete run\n",
        "          if epoch==num_epochs-1:\n",
        "            torch.cuda.empty_cache()\n",
        "\n",
        "\n",
        "#RUNNING THE SWEEP\n",
        "wandb.agent(sweep_id, function=sweep_train, count=1)\n"
      ],
      "metadata": {
        "id": "6k7w6mlekRLZ"
      },
      "execution_count": null,
      "outputs": []
    },
    {
      "cell_type": "markdown",
      "source": [
        "# **Plotting grid for test data and predictions**\n",
        "Made changes in fit_train() to get return values as output images and correct labels, predicted labels of test data for last epoch."
      ],
      "metadata": {
        "id": "EjcBb2wvlmht"
      }
    },
    {
      "cell_type": "code",
      "execution_count": null,
      "metadata": {
        "id": "wtaiNNDytxh8"
      },
      "outputs": [],
      "source": [
        "def fit_train():\n",
        "      criterion = nn.CrossEntropyLoss()\n",
        "      optimizer = optim.Adam(model.parameters(), lr=0.0003, betas=(0.9,0.9999))\n",
        "\n",
        "      # Train the model\n",
        "      num_epochs = 15\n",
        "      out_img=[]\n",
        "      pred_label_o=[]\n",
        "      actual_output=[]\n",
        "      for epoch in range(num_epochs):\n",
        "          # Set to training mode\n",
        "          model.train()\n",
        "\n",
        "          running_loss = 0.0\n",
        "          running_corrects = 0\n",
        "          for inputs, labels in train_loader:\n",
        "              inputs, labels = inputs.to(device), labels.to(device)\n",
        "\n",
        "              optimizer.zero_grad()\n",
        "\n",
        "              outputs = model(inputs)\n",
        "              _, preds = torch.max(outputs, 1)\n",
        "              loss = criterion(outputs, labels)\n",
        "              \n",
        "              loss.backward()\n",
        "              optimizer.step()\n",
        "\n",
        "              running_loss += loss.item() * inputs.size(0)\n",
        "              running_corrects += torch.sum(preds == labels.data)\n",
        "\n",
        "          train_epoch_loss = running_loss / len(train_loader.dataset)\n",
        "          train_epoch_acc = (running_corrects.double() / len(train_loader.dataset))*100\n",
        "\n",
        "          # Evaluate on test set\n",
        "          model.eval()\n",
        "\n",
        "          running_loss = 0.0\n",
        "          running_corrects = 0\n",
        "          with torch.no_grad():\n",
        "              for inputs, labels in test_loader:\n",
        "                  inputs, labels = inputs.to(device), labels.to(device)\n",
        "\n",
        "                  # Forward pass\n",
        "                  outputs = model(inputs)\n",
        "                  _, preds = torch.max(outputs, 1)\n",
        "                  loss = criterion(outputs, labels)\n",
        "                  \n",
        "                  #DATA LOGGING FOR VISUALIZATION\n",
        "                  if epoch == num_epochs-1:\n",
        "                     out_img.append(inputs)\n",
        "                     pred_label_o.append(int(preds[0]))\n",
        "                     actual_output.append(int(labels[0]))\n",
        "                     print(out_img)\n",
        "                     print(pred_label_o)\n",
        "                     print(actual_output)\n",
        "                  # Statistics\n",
        "                  running_loss += loss.item() * inputs.size(0)\n",
        "                  running_corrects += torch.sum(preds == labels.data)\n",
        "\n",
        "          val_epoch_loss = running_loss / len(test_loader.dataset)\n",
        "          val_epoch_acc = (running_corrects.double() / len(test_loader.dataset))*100\n",
        "          \n",
        "          print(f\"Epoch {epoch+1}/{num_epochs}--> Training_Loss:{train_epoch_loss:.2f}; Train_Accuracy:{train_epoch_acc:.2f}; Validation_Loss:{val_epoch_loss:.2f}; Val_Accuracy:{val_epoch_acc:.2f}\")\n",
        "          \n",
        "          torch.cuda.empty_cache()\n",
        "      return out_img,pred_label_o,actual_output\n"
      ]
    },
    {
      "cell_type": "code",
      "execution_count": null,
      "metadata": {
        "id": "T3YKfwvDuhb6"
      },
      "outputs": [],
      "source": [
        "device = torch.device(\"cuda\" if torch.cuda.is_available() else \"cpu\")\n",
        "if torch.cuda.is_available():\n",
        "  print('Using GPU...!')\n",
        "else:\n",
        "  print('Using CPU...!(terminate the runtime and restart using GPU)')\n",
        "\n",
        "# Initialize model, loss function, and optimizer\n",
        "\n",
        "model = MyModel( num_filter=[64,128,256,512,1024],kernel_size=[5,5,5,5,5] ,activation='silu').to(device)\n",
        "out_img,pred_label_o,actual_output=fit_train()"
      ]
    },
    {
      "cell_type": "code",
      "execution_count": null,
      "metadata": {
        "colab": {
          "background_save": true
        },
        "id": "OwTwyOLIKfAY"
      },
      "outputs": [],
      "source": [
        "import warnings\n",
        "warnings.filterwarnings(\"ignore\")\n",
        "image,label=[],[]\n",
        "f_image = out_img[0]\n",
        "f_image_copy = f_image.clone()\n",
        "np_image = f_image_copy.cpu().numpy()\n",
        "\n",
        "for i in range(30):\n",
        " a=np_image[i]\n",
        " image.append(a)\n",
        "labels={0:'Amphibia',1:'Animalia',2:'Ararchnida',3:'Aves',4:'Fungi',5:'Insecta',6:'Mammalia',7:'Mollusca',8:'Plantae',9:'Reptilia'}\n",
        "\n",
        "xyz = plt.figure(figsize=(20,20))\n",
        "for i in range(len(image)):\n",
        " xyz.add_subplot(10, 3, i+1)\n",
        " image[i] = image[i].transpose(1, 2, 0)\n",
        " plt.imshow(image[i])\n",
        " plt.xlabel('correct : '+ labels[actual_output[i]])\n",
        " plt.ylabel('predicted : '+labels[pred_labels_o[i]])\n",
        " plt.xticks([])\n",
        " plt.yticks([])\n",
        " plt.axis(False)\n",
        " plt.grid(0)\n",
        "xyz.tight_layout()\n",
        "plt.show()"
      ]
    }
  ],
  "metadata": {
    "accelerator": "GPU",
    "colab": {
      "provenance": []
    },
    "gpuClass": "standard",
    "kernelspec": {
      "display_name": "Python 3",
      "name": "python3"
    },
    "language_info": {
      "name": "python"
    },
    "widgets": {
      "application/vnd.jupyter.widget-state+json": {
        "05a283a2e241403d9e532e791bbf588b": {
          "model_module": "@jupyter-widgets/base",
          "model_module_version": "1.2.0",
          "model_name": "LayoutModel",
          "state": {
            "_model_module": "@jupyter-widgets/base",
            "_model_module_version": "1.2.0",
            "_model_name": "LayoutModel",
            "_view_count": null,
            "_view_module": "@jupyter-widgets/base",
            "_view_module_version": "1.2.0",
            "_view_name": "LayoutView",
            "align_content": null,
            "align_items": null,
            "align_self": null,
            "border": null,
            "bottom": null,
            "display": null,
            "flex": null,
            "flex_flow": null,
            "grid_area": null,
            "grid_auto_columns": null,
            "grid_auto_flow": null,
            "grid_auto_rows": null,
            "grid_column": null,
            "grid_gap": null,
            "grid_row": null,
            "grid_template_areas": null,
            "grid_template_columns": null,
            "grid_template_rows": null,
            "height": null,
            "justify_content": null,
            "justify_items": null,
            "left": null,
            "margin": null,
            "max_height": null,
            "max_width": null,
            "min_height": null,
            "min_width": null,
            "object_fit": null,
            "object_position": null,
            "order": null,
            "overflow": null,
            "overflow_x": null,
            "overflow_y": null,
            "padding": null,
            "right": null,
            "top": null,
            "visibility": null,
            "width": null
          }
        },
        "066bb3e266f142af8542104dbfa560b9": {
          "model_module": "@jupyter-widgets/controls",
          "model_module_version": "1.5.0",
          "model_name": "DescriptionStyleModel",
          "state": {
            "_model_module": "@jupyter-widgets/controls",
            "_model_module_version": "1.5.0",
            "_model_name": "DescriptionStyleModel",
            "_view_count": null,
            "_view_module": "@jupyter-widgets/base",
            "_view_module_version": "1.2.0",
            "_view_name": "StyleView",
            "description_width": ""
          }
        },
        "0746e5b1a2254b209fab7d6039f5367c": {
          "model_module": "@jupyter-widgets/controls",
          "model_module_version": "1.5.0",
          "model_name": "FloatProgressModel",
          "state": {
            "_dom_classes": [],
            "_model_module": "@jupyter-widgets/controls",
            "_model_module_version": "1.5.0",
            "_model_name": "FloatProgressModel",
            "_view_count": null,
            "_view_module": "@jupyter-widgets/controls",
            "_view_module_version": "1.5.0",
            "_view_name": "ProgressView",
            "bar_style": "",
            "description": "",
            "description_tooltip": null,
            "layout": "IPY_MODEL_a1ae437256884f9fac58372701a9da81",
            "max": 1,
            "min": 0,
            "orientation": "horizontal",
            "style": "IPY_MODEL_a70a2608dfa6443d8f88d69c3d24f992",
            "value": 1
          }
        },
        "0ac09f7f09654c22ad7e8df9c1572996": {
          "model_module": "@jupyter-widgets/base",
          "model_module_version": "1.2.0",
          "model_name": "LayoutModel",
          "state": {
            "_model_module": "@jupyter-widgets/base",
            "_model_module_version": "1.2.0",
            "_model_name": "LayoutModel",
            "_view_count": null,
            "_view_module": "@jupyter-widgets/base",
            "_view_module_version": "1.2.0",
            "_view_name": "LayoutView",
            "align_content": null,
            "align_items": null,
            "align_self": null,
            "border": null,
            "bottom": null,
            "display": null,
            "flex": null,
            "flex_flow": null,
            "grid_area": null,
            "grid_auto_columns": null,
            "grid_auto_flow": null,
            "grid_auto_rows": null,
            "grid_column": null,
            "grid_gap": null,
            "grid_row": null,
            "grid_template_areas": null,
            "grid_template_columns": null,
            "grid_template_rows": null,
            "height": null,
            "justify_content": null,
            "justify_items": null,
            "left": null,
            "margin": null,
            "max_height": null,
            "max_width": null,
            "min_height": null,
            "min_width": null,
            "object_fit": null,
            "object_position": null,
            "order": null,
            "overflow": null,
            "overflow_x": null,
            "overflow_y": null,
            "padding": null,
            "right": null,
            "top": null,
            "visibility": null,
            "width": null
          }
        },
        "116258f111c743ae94c013bf63ad0687": {
          "model_module": "@jupyter-widgets/base",
          "model_module_version": "1.2.0",
          "model_name": "LayoutModel",
          "state": {
            "_model_module": "@jupyter-widgets/base",
            "_model_module_version": "1.2.0",
            "_model_name": "LayoutModel",
            "_view_count": null,
            "_view_module": "@jupyter-widgets/base",
            "_view_module_version": "1.2.0",
            "_view_name": "LayoutView",
            "align_content": null,
            "align_items": null,
            "align_self": null,
            "border": null,
            "bottom": null,
            "display": null,
            "flex": null,
            "flex_flow": null,
            "grid_area": null,
            "grid_auto_columns": null,
            "grid_auto_flow": null,
            "grid_auto_rows": null,
            "grid_column": null,
            "grid_gap": null,
            "grid_row": null,
            "grid_template_areas": null,
            "grid_template_columns": null,
            "grid_template_rows": null,
            "height": null,
            "justify_content": null,
            "justify_items": null,
            "left": null,
            "margin": null,
            "max_height": null,
            "max_width": null,
            "min_height": null,
            "min_width": null,
            "object_fit": null,
            "object_position": null,
            "order": null,
            "overflow": null,
            "overflow_x": null,
            "overflow_y": null,
            "padding": null,
            "right": null,
            "top": null,
            "visibility": null,
            "width": null
          }
        },
        "1444a5c6b8f14c4cb601e1144fabcaf5": {
          "model_module": "@jupyter-widgets/controls",
          "model_module_version": "1.5.0",
          "model_name": "ProgressStyleModel",
          "state": {
            "_model_module": "@jupyter-widgets/controls",
            "_model_module_version": "1.5.0",
            "_model_name": "ProgressStyleModel",
            "_view_count": null,
            "_view_module": "@jupyter-widgets/base",
            "_view_module_version": "1.2.0",
            "_view_name": "StyleView",
            "bar_color": null,
            "description_width": ""
          }
        },
        "16ec71a4aa204d43b0daa24910560915": {
          "model_module": "@jupyter-widgets/controls",
          "model_module_version": "1.5.0",
          "model_name": "VBoxModel",
          "state": {
            "_dom_classes": [],
            "_model_module": "@jupyter-widgets/controls",
            "_model_module_version": "1.5.0",
            "_model_name": "VBoxModel",
            "_view_count": null,
            "_view_module": "@jupyter-widgets/controls",
            "_view_module_version": "1.5.0",
            "_view_name": "VBoxView",
            "box_style": "",
            "children": [
              "IPY_MODEL_7b0c3140437343c1b6cc172f0e836ff3",
              "IPY_MODEL_971ada15bddd469886cc3bf159f5ade6"
            ],
            "layout": "IPY_MODEL_116258f111c743ae94c013bf63ad0687"
          }
        },
        "68c7cf49cd824f3ca3389282184ceba6": {
          "model_module": "@jupyter-widgets/base",
          "model_module_version": "1.2.0",
          "model_name": "LayoutModel",
          "state": {
            "_model_module": "@jupyter-widgets/base",
            "_model_module_version": "1.2.0",
            "_model_name": "LayoutModel",
            "_view_count": null,
            "_view_module": "@jupyter-widgets/base",
            "_view_module_version": "1.2.0",
            "_view_name": "LayoutView",
            "align_content": null,
            "align_items": null,
            "align_self": null,
            "border": null,
            "bottom": null,
            "display": null,
            "flex": null,
            "flex_flow": null,
            "grid_area": null,
            "grid_auto_columns": null,
            "grid_auto_flow": null,
            "grid_auto_rows": null,
            "grid_column": null,
            "grid_gap": null,
            "grid_row": null,
            "grid_template_areas": null,
            "grid_template_columns": null,
            "grid_template_rows": null,
            "height": null,
            "justify_content": null,
            "justify_items": null,
            "left": null,
            "margin": null,
            "max_height": null,
            "max_width": null,
            "min_height": null,
            "min_width": null,
            "object_fit": null,
            "object_position": null,
            "order": null,
            "overflow": null,
            "overflow_x": null,
            "overflow_y": null,
            "padding": null,
            "right": null,
            "top": null,
            "visibility": null,
            "width": null
          }
        },
        "70701e9ba925495ebbac9bb81be92948": {
          "model_module": "@jupyter-widgets/controls",
          "model_module_version": "1.5.0",
          "model_name": "VBoxModel",
          "state": {
            "_dom_classes": [],
            "_model_module": "@jupyter-widgets/controls",
            "_model_module_version": "1.5.0",
            "_model_name": "VBoxModel",
            "_view_count": null,
            "_view_module": "@jupyter-widgets/controls",
            "_view_module_version": "1.5.0",
            "_view_name": "VBoxView",
            "box_style": "",
            "children": [
              "IPY_MODEL_7e7924ca837440ed8a68efd7c54c3c64",
              "IPY_MODEL_0746e5b1a2254b209fab7d6039f5367c"
            ],
            "layout": "IPY_MODEL_68c7cf49cd824f3ca3389282184ceba6"
          }
        },
        "7b0c3140437343c1b6cc172f0e836ff3": {
          "model_module": "@jupyter-widgets/controls",
          "model_module_version": "1.5.0",
          "model_name": "LabelModel",
          "state": {
            "_dom_classes": [],
            "_model_module": "@jupyter-widgets/controls",
            "_model_module_version": "1.5.0",
            "_model_name": "LabelModel",
            "_view_count": null,
            "_view_module": "@jupyter-widgets/controls",
            "_view_module_version": "1.5.0",
            "_view_name": "LabelView",
            "description": "",
            "description_tooltip": null,
            "layout": "IPY_MODEL_d674d18f6bc24e44ba982d15ab54049f",
            "placeholder": "​",
            "style": "IPY_MODEL_066bb3e266f142af8542104dbfa560b9",
            "value": "0.012 MB of 0.013 MB uploaded (0.000 MB deduped)\r"
          }
        },
        "7e7924ca837440ed8a68efd7c54c3c64": {
          "model_module": "@jupyter-widgets/controls",
          "model_module_version": "1.5.0",
          "model_name": "LabelModel",
          "state": {
            "_dom_classes": [],
            "_model_module": "@jupyter-widgets/controls",
            "_model_module_version": "1.5.0",
            "_model_name": "LabelModel",
            "_view_count": null,
            "_view_module": "@jupyter-widgets/controls",
            "_view_module_version": "1.5.0",
            "_view_name": "LabelView",
            "description": "",
            "description_tooltip": null,
            "layout": "IPY_MODEL_05a283a2e241403d9e532e791bbf588b",
            "placeholder": "​",
            "style": "IPY_MODEL_cc5a71a5721c4ccbb79f4ad7e3896366",
            "value": "0.013 MB of 0.013 MB uploaded (0.000 MB deduped)\r"
          }
        },
        "971ada15bddd469886cc3bf159f5ade6": {
          "model_module": "@jupyter-widgets/controls",
          "model_module_version": "1.5.0",
          "model_name": "FloatProgressModel",
          "state": {
            "_dom_classes": [],
            "_model_module": "@jupyter-widgets/controls",
            "_model_module_version": "1.5.0",
            "_model_name": "FloatProgressModel",
            "_view_count": null,
            "_view_module": "@jupyter-widgets/controls",
            "_view_module_version": "1.5.0",
            "_view_name": "ProgressView",
            "bar_style": "",
            "description": "",
            "description_tooltip": null,
            "layout": "IPY_MODEL_0ac09f7f09654c22ad7e8df9c1572996",
            "max": 1,
            "min": 0,
            "orientation": "horizontal",
            "style": "IPY_MODEL_1444a5c6b8f14c4cb601e1144fabcaf5",
            "value": 0.9476367343966208
          }
        },
        "a1ae437256884f9fac58372701a9da81": {
          "model_module": "@jupyter-widgets/base",
          "model_module_version": "1.2.0",
          "model_name": "LayoutModel",
          "state": {
            "_model_module": "@jupyter-widgets/base",
            "_model_module_version": "1.2.0",
            "_model_name": "LayoutModel",
            "_view_count": null,
            "_view_module": "@jupyter-widgets/base",
            "_view_module_version": "1.2.0",
            "_view_name": "LayoutView",
            "align_content": null,
            "align_items": null,
            "align_self": null,
            "border": null,
            "bottom": null,
            "display": null,
            "flex": null,
            "flex_flow": null,
            "grid_area": null,
            "grid_auto_columns": null,
            "grid_auto_flow": null,
            "grid_auto_rows": null,
            "grid_column": null,
            "grid_gap": null,
            "grid_row": null,
            "grid_template_areas": null,
            "grid_template_columns": null,
            "grid_template_rows": null,
            "height": null,
            "justify_content": null,
            "justify_items": null,
            "left": null,
            "margin": null,
            "max_height": null,
            "max_width": null,
            "min_height": null,
            "min_width": null,
            "object_fit": null,
            "object_position": null,
            "order": null,
            "overflow": null,
            "overflow_x": null,
            "overflow_y": null,
            "padding": null,
            "right": null,
            "top": null,
            "visibility": null,
            "width": null
          }
        },
        "a70a2608dfa6443d8f88d69c3d24f992": {
          "model_module": "@jupyter-widgets/controls",
          "model_module_version": "1.5.0",
          "model_name": "ProgressStyleModel",
          "state": {
            "_model_module": "@jupyter-widgets/controls",
            "_model_module_version": "1.5.0",
            "_model_name": "ProgressStyleModel",
            "_view_count": null,
            "_view_module": "@jupyter-widgets/base",
            "_view_module_version": "1.2.0",
            "_view_name": "StyleView",
            "bar_color": null,
            "description_width": ""
          }
        },
        "cc5a71a5721c4ccbb79f4ad7e3896366": {
          "model_module": "@jupyter-widgets/controls",
          "model_module_version": "1.5.0",
          "model_name": "DescriptionStyleModel",
          "state": {
            "_model_module": "@jupyter-widgets/controls",
            "_model_module_version": "1.5.0",
            "_model_name": "DescriptionStyleModel",
            "_view_count": null,
            "_view_module": "@jupyter-widgets/base",
            "_view_module_version": "1.2.0",
            "_view_name": "StyleView",
            "description_width": ""
          }
        },
        "d674d18f6bc24e44ba982d15ab54049f": {
          "model_module": "@jupyter-widgets/base",
          "model_module_version": "1.2.0",
          "model_name": "LayoutModel",
          "state": {
            "_model_module": "@jupyter-widgets/base",
            "_model_module_version": "1.2.0",
            "_model_name": "LayoutModel",
            "_view_count": null,
            "_view_module": "@jupyter-widgets/base",
            "_view_module_version": "1.2.0",
            "_view_name": "LayoutView",
            "align_content": null,
            "align_items": null,
            "align_self": null,
            "border": null,
            "bottom": null,
            "display": null,
            "flex": null,
            "flex_flow": null,
            "grid_area": null,
            "grid_auto_columns": null,
            "grid_auto_flow": null,
            "grid_auto_rows": null,
            "grid_column": null,
            "grid_gap": null,
            "grid_row": null,
            "grid_template_areas": null,
            "grid_template_columns": null,
            "grid_template_rows": null,
            "height": null,
            "justify_content": null,
            "justify_items": null,
            "left": null,
            "margin": null,
            "max_height": null,
            "max_width": null,
            "min_height": null,
            "min_width": null,
            "object_fit": null,
            "object_position": null,
            "order": null,
            "overflow": null,
            "overflow_x": null,
            "overflow_y": null,
            "padding": null,
            "right": null,
            "top": null,
            "visibility": null,
            "width": null
          }
        }
      }
    }
  },
  "nbformat": 4,
  "nbformat_minor": 0
}