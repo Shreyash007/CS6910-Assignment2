{
  "nbformat": 4,
  "nbformat_minor": 0,
  "metadata": {
    "colab": {
      "provenance": []
    },
    "kernelspec": {
      "name": "python3",
      "display_name": "Python 3"
    },
    "language_info": {
      "name": "python"
    },
    "accelerator": "GPU",
    "gpuClass": "standard",
    "widgets": {
      "application/vnd.jupyter.widget-state+json": {
        "a213ba3a8e9e44fda722d4001b9dd1ff": {
          "model_module": "@jupyter-widgets/controls",
          "model_name": "VBoxModel",
          "model_module_version": "1.5.0",
          "state": {
            "_dom_classes": [],
            "_model_module": "@jupyter-widgets/controls",
            "_model_module_version": "1.5.0",
            "_model_name": "VBoxModel",
            "_view_count": null,
            "_view_module": "@jupyter-widgets/controls",
            "_view_module_version": "1.5.0",
            "_view_name": "VBoxView",
            "box_style": "",
            "children": [
              "IPY_MODEL_641cc71fa4404ab4a0b96054a71f2d2a",
              "IPY_MODEL_813fb12fcee340e19649ebbe90b45913"
            ],
            "layout": "IPY_MODEL_61092af77ed840b3a2a474d8a12a4909"
          }
        },
        "641cc71fa4404ab4a0b96054a71f2d2a": {
          "model_module": "@jupyter-widgets/controls",
          "model_name": "LabelModel",
          "model_module_version": "1.5.0",
          "state": {
            "_dom_classes": [],
            "_model_module": "@jupyter-widgets/controls",
            "_model_module_version": "1.5.0",
            "_model_name": "LabelModel",
            "_view_count": null,
            "_view_module": "@jupyter-widgets/controls",
            "_view_module_version": "1.5.0",
            "_view_name": "LabelView",
            "description": "",
            "description_tooltip": null,
            "layout": "IPY_MODEL_a293ddece22144a983b08a2ece5b8ec0",
            "placeholder": "​",
            "style": "IPY_MODEL_378f314bae844adc872f7b2be55e6330",
            "value": "0.001 MB of 0.001 MB uploaded (0.000 MB deduped)\r"
          }
        },
        "813fb12fcee340e19649ebbe90b45913": {
          "model_module": "@jupyter-widgets/controls",
          "model_name": "FloatProgressModel",
          "model_module_version": "1.5.0",
          "state": {
            "_dom_classes": [],
            "_model_module": "@jupyter-widgets/controls",
            "_model_module_version": "1.5.0",
            "_model_name": "FloatProgressModel",
            "_view_count": null,
            "_view_module": "@jupyter-widgets/controls",
            "_view_module_version": "1.5.0",
            "_view_name": "ProgressView",
            "bar_style": "",
            "description": "",
            "description_tooltip": null,
            "layout": "IPY_MODEL_62bf9ba6c57c48f6bee60af62ff2512a",
            "max": 1,
            "min": 0,
            "orientation": "horizontal",
            "style": "IPY_MODEL_032327df18554a2d940e3f4ce4556afb",
            "value": 1
          }
        },
        "61092af77ed840b3a2a474d8a12a4909": {
          "model_module": "@jupyter-widgets/base",
          "model_name": "LayoutModel",
          "model_module_version": "1.2.0",
          "state": {
            "_model_module": "@jupyter-widgets/base",
            "_model_module_version": "1.2.0",
            "_model_name": "LayoutModel",
            "_view_count": null,
            "_view_module": "@jupyter-widgets/base",
            "_view_module_version": "1.2.0",
            "_view_name": "LayoutView",
            "align_content": null,
            "align_items": null,
            "align_self": null,
            "border": null,
            "bottom": null,
            "display": null,
            "flex": null,
            "flex_flow": null,
            "grid_area": null,
            "grid_auto_columns": null,
            "grid_auto_flow": null,
            "grid_auto_rows": null,
            "grid_column": null,
            "grid_gap": null,
            "grid_row": null,
            "grid_template_areas": null,
            "grid_template_columns": null,
            "grid_template_rows": null,
            "height": null,
            "justify_content": null,
            "justify_items": null,
            "left": null,
            "margin": null,
            "max_height": null,
            "max_width": null,
            "min_height": null,
            "min_width": null,
            "object_fit": null,
            "object_position": null,
            "order": null,
            "overflow": null,
            "overflow_x": null,
            "overflow_y": null,
            "padding": null,
            "right": null,
            "top": null,
            "visibility": null,
            "width": null
          }
        },
        "a293ddece22144a983b08a2ece5b8ec0": {
          "model_module": "@jupyter-widgets/base",
          "model_name": "LayoutModel",
          "model_module_version": "1.2.0",
          "state": {
            "_model_module": "@jupyter-widgets/base",
            "_model_module_version": "1.2.0",
            "_model_name": "LayoutModel",
            "_view_count": null,
            "_view_module": "@jupyter-widgets/base",
            "_view_module_version": "1.2.0",
            "_view_name": "LayoutView",
            "align_content": null,
            "align_items": null,
            "align_self": null,
            "border": null,
            "bottom": null,
            "display": null,
            "flex": null,
            "flex_flow": null,
            "grid_area": null,
            "grid_auto_columns": null,
            "grid_auto_flow": null,
            "grid_auto_rows": null,
            "grid_column": null,
            "grid_gap": null,
            "grid_row": null,
            "grid_template_areas": null,
            "grid_template_columns": null,
            "grid_template_rows": null,
            "height": null,
            "justify_content": null,
            "justify_items": null,
            "left": null,
            "margin": null,
            "max_height": null,
            "max_width": null,
            "min_height": null,
            "min_width": null,
            "object_fit": null,
            "object_position": null,
            "order": null,
            "overflow": null,
            "overflow_x": null,
            "overflow_y": null,
            "padding": null,
            "right": null,
            "top": null,
            "visibility": null,
            "width": null
          }
        },
        "378f314bae844adc872f7b2be55e6330": {
          "model_module": "@jupyter-widgets/controls",
          "model_name": "DescriptionStyleModel",
          "model_module_version": "1.5.0",
          "state": {
            "_model_module": "@jupyter-widgets/controls",
            "_model_module_version": "1.5.0",
            "_model_name": "DescriptionStyleModel",
            "_view_count": null,
            "_view_module": "@jupyter-widgets/base",
            "_view_module_version": "1.2.0",
            "_view_name": "StyleView",
            "description_width": ""
          }
        },
        "62bf9ba6c57c48f6bee60af62ff2512a": {
          "model_module": "@jupyter-widgets/base",
          "model_name": "LayoutModel",
          "model_module_version": "1.2.0",
          "state": {
            "_model_module": "@jupyter-widgets/base",
            "_model_module_version": "1.2.0",
            "_model_name": "LayoutModel",
            "_view_count": null,
            "_view_module": "@jupyter-widgets/base",
            "_view_module_version": "1.2.0",
            "_view_name": "LayoutView",
            "align_content": null,
            "align_items": null,
            "align_self": null,
            "border": null,
            "bottom": null,
            "display": null,
            "flex": null,
            "flex_flow": null,
            "grid_area": null,
            "grid_auto_columns": null,
            "grid_auto_flow": null,
            "grid_auto_rows": null,
            "grid_column": null,
            "grid_gap": null,
            "grid_row": null,
            "grid_template_areas": null,
            "grid_template_columns": null,
            "grid_template_rows": null,
            "height": null,
            "justify_content": null,
            "justify_items": null,
            "left": null,
            "margin": null,
            "max_height": null,
            "max_width": null,
            "min_height": null,
            "min_width": null,
            "object_fit": null,
            "object_position": null,
            "order": null,
            "overflow": null,
            "overflow_x": null,
            "overflow_y": null,
            "padding": null,
            "right": null,
            "top": null,
            "visibility": null,
            "width": null
          }
        },
        "032327df18554a2d940e3f4ce4556afb": {
          "model_module": "@jupyter-widgets/controls",
          "model_name": "ProgressStyleModel",
          "model_module_version": "1.5.0",
          "state": {
            "_model_module": "@jupyter-widgets/controls",
            "_model_module_version": "1.5.0",
            "_model_name": "ProgressStyleModel",
            "_view_count": null,
            "_view_module": "@jupyter-widgets/base",
            "_view_module_version": "1.2.0",
            "_view_name": "StyleView",
            "bar_color": null,
            "description_width": ""
          }
        },
        "593c54ac1840447ab8aefb0639678eff": {
          "model_module": "@jupyter-widgets/controls",
          "model_name": "VBoxModel",
          "model_module_version": "1.5.0",
          "state": {
            "_dom_classes": [],
            "_model_module": "@jupyter-widgets/controls",
            "_model_module_version": "1.5.0",
            "_model_name": "VBoxModel",
            "_view_count": null,
            "_view_module": "@jupyter-widgets/controls",
            "_view_module_version": "1.5.0",
            "_view_name": "VBoxView",
            "box_style": "",
            "children": [
              "IPY_MODEL_c8f93a3d603d4c7a8c32a1ca7fea9bf2",
              "IPY_MODEL_00d53fe81294498bb0bed558fcaa19bf"
            ],
            "layout": "IPY_MODEL_aafd8a0f56fc488eb3f40f3b0c82559c"
          }
        },
        "c8f93a3d603d4c7a8c32a1ca7fea9bf2": {
          "model_module": "@jupyter-widgets/controls",
          "model_name": "LabelModel",
          "model_module_version": "1.5.0",
          "state": {
            "_dom_classes": [],
            "_model_module": "@jupyter-widgets/controls",
            "_model_module_version": "1.5.0",
            "_model_name": "LabelModel",
            "_view_count": null,
            "_view_module": "@jupyter-widgets/controls",
            "_view_module_version": "1.5.0",
            "_view_name": "LabelView",
            "description": "",
            "description_tooltip": null,
            "layout": "IPY_MODEL_31b05c9506f946518d70c4dd291e5ef5",
            "placeholder": "​",
            "style": "IPY_MODEL_b03d76d8ba474d648b9384f14e61e278",
            "value": "0.001 MB of 0.001 MB uploaded (0.000 MB deduped)\r"
          }
        },
        "00d53fe81294498bb0bed558fcaa19bf": {
          "model_module": "@jupyter-widgets/controls",
          "model_name": "FloatProgressModel",
          "model_module_version": "1.5.0",
          "state": {
            "_dom_classes": [],
            "_model_module": "@jupyter-widgets/controls",
            "_model_module_version": "1.5.0",
            "_model_name": "FloatProgressModel",
            "_view_count": null,
            "_view_module": "@jupyter-widgets/controls",
            "_view_module_version": "1.5.0",
            "_view_name": "ProgressView",
            "bar_style": "",
            "description": "",
            "description_tooltip": null,
            "layout": "IPY_MODEL_de187736b3e1414f8d2935c49fd6b7a6",
            "max": 1,
            "min": 0,
            "orientation": "horizontal",
            "style": "IPY_MODEL_82bccfde4a9049d9ae722baae8c08fff",
            "value": 1
          }
        },
        "aafd8a0f56fc488eb3f40f3b0c82559c": {
          "model_module": "@jupyter-widgets/base",
          "model_name": "LayoutModel",
          "model_module_version": "1.2.0",
          "state": {
            "_model_module": "@jupyter-widgets/base",
            "_model_module_version": "1.2.0",
            "_model_name": "LayoutModel",
            "_view_count": null,
            "_view_module": "@jupyter-widgets/base",
            "_view_module_version": "1.2.0",
            "_view_name": "LayoutView",
            "align_content": null,
            "align_items": null,
            "align_self": null,
            "border": null,
            "bottom": null,
            "display": null,
            "flex": null,
            "flex_flow": null,
            "grid_area": null,
            "grid_auto_columns": null,
            "grid_auto_flow": null,
            "grid_auto_rows": null,
            "grid_column": null,
            "grid_gap": null,
            "grid_row": null,
            "grid_template_areas": null,
            "grid_template_columns": null,
            "grid_template_rows": null,
            "height": null,
            "justify_content": null,
            "justify_items": null,
            "left": null,
            "margin": null,
            "max_height": null,
            "max_width": null,
            "min_height": null,
            "min_width": null,
            "object_fit": null,
            "object_position": null,
            "order": null,
            "overflow": null,
            "overflow_x": null,
            "overflow_y": null,
            "padding": null,
            "right": null,
            "top": null,
            "visibility": null,
            "width": null
          }
        },
        "31b05c9506f946518d70c4dd291e5ef5": {
          "model_module": "@jupyter-widgets/base",
          "model_name": "LayoutModel",
          "model_module_version": "1.2.0",
          "state": {
            "_model_module": "@jupyter-widgets/base",
            "_model_module_version": "1.2.0",
            "_model_name": "LayoutModel",
            "_view_count": null,
            "_view_module": "@jupyter-widgets/base",
            "_view_module_version": "1.2.0",
            "_view_name": "LayoutView",
            "align_content": null,
            "align_items": null,
            "align_self": null,
            "border": null,
            "bottom": null,
            "display": null,
            "flex": null,
            "flex_flow": null,
            "grid_area": null,
            "grid_auto_columns": null,
            "grid_auto_flow": null,
            "grid_auto_rows": null,
            "grid_column": null,
            "grid_gap": null,
            "grid_row": null,
            "grid_template_areas": null,
            "grid_template_columns": null,
            "grid_template_rows": null,
            "height": null,
            "justify_content": null,
            "justify_items": null,
            "left": null,
            "margin": null,
            "max_height": null,
            "max_width": null,
            "min_height": null,
            "min_width": null,
            "object_fit": null,
            "object_position": null,
            "order": null,
            "overflow": null,
            "overflow_x": null,
            "overflow_y": null,
            "padding": null,
            "right": null,
            "top": null,
            "visibility": null,
            "width": null
          }
        },
        "b03d76d8ba474d648b9384f14e61e278": {
          "model_module": "@jupyter-widgets/controls",
          "model_name": "DescriptionStyleModel",
          "model_module_version": "1.5.0",
          "state": {
            "_model_module": "@jupyter-widgets/controls",
            "_model_module_version": "1.5.0",
            "_model_name": "DescriptionStyleModel",
            "_view_count": null,
            "_view_module": "@jupyter-widgets/base",
            "_view_module_version": "1.2.0",
            "_view_name": "StyleView",
            "description_width": ""
          }
        },
        "de187736b3e1414f8d2935c49fd6b7a6": {
          "model_module": "@jupyter-widgets/base",
          "model_name": "LayoutModel",
          "model_module_version": "1.2.0",
          "state": {
            "_model_module": "@jupyter-widgets/base",
            "_model_module_version": "1.2.0",
            "_model_name": "LayoutModel",
            "_view_count": null,
            "_view_module": "@jupyter-widgets/base",
            "_view_module_version": "1.2.0",
            "_view_name": "LayoutView",
            "align_content": null,
            "align_items": null,
            "align_self": null,
            "border": null,
            "bottom": null,
            "display": null,
            "flex": null,
            "flex_flow": null,
            "grid_area": null,
            "grid_auto_columns": null,
            "grid_auto_flow": null,
            "grid_auto_rows": null,
            "grid_column": null,
            "grid_gap": null,
            "grid_row": null,
            "grid_template_areas": null,
            "grid_template_columns": null,
            "grid_template_rows": null,
            "height": null,
            "justify_content": null,
            "justify_items": null,
            "left": null,
            "margin": null,
            "max_height": null,
            "max_width": null,
            "min_height": null,
            "min_width": null,
            "object_fit": null,
            "object_position": null,
            "order": null,
            "overflow": null,
            "overflow_x": null,
            "overflow_y": null,
            "padding": null,
            "right": null,
            "top": null,
            "visibility": null,
            "width": null
          }
        },
        "82bccfde4a9049d9ae722baae8c08fff": {
          "model_module": "@jupyter-widgets/controls",
          "model_name": "ProgressStyleModel",
          "model_module_version": "1.5.0",
          "state": {
            "_model_module": "@jupyter-widgets/controls",
            "_model_module_version": "1.5.0",
            "_model_name": "ProgressStyleModel",
            "_view_count": null,
            "_view_module": "@jupyter-widgets/base",
            "_view_module_version": "1.2.0",
            "_view_name": "StyleView",
            "bar_color": null,
            "description_width": ""
          }
        },
        "41dae2a20a354b5aa3e31ffcd06b1dc6": {
          "model_module": "@jupyter-widgets/controls",
          "model_name": "VBoxModel",
          "model_module_version": "1.5.0",
          "state": {
            "_dom_classes": [],
            "_model_module": "@jupyter-widgets/controls",
            "_model_module_version": "1.5.0",
            "_model_name": "VBoxModel",
            "_view_count": null,
            "_view_module": "@jupyter-widgets/controls",
            "_view_module_version": "1.5.0",
            "_view_name": "VBoxView",
            "box_style": "",
            "children": [
              "IPY_MODEL_de04c3646be94cca974a1d507c20b425",
              "IPY_MODEL_63c917dcd4b44ffea0a55605bb716879"
            ],
            "layout": "IPY_MODEL_e1949d2a96074bb09159b2e015bf146f"
          }
        },
        "de04c3646be94cca974a1d507c20b425": {
          "model_module": "@jupyter-widgets/controls",
          "model_name": "LabelModel",
          "model_module_version": "1.5.0",
          "state": {
            "_dom_classes": [],
            "_model_module": "@jupyter-widgets/controls",
            "_model_module_version": "1.5.0",
            "_model_name": "LabelModel",
            "_view_count": null,
            "_view_module": "@jupyter-widgets/controls",
            "_view_module_version": "1.5.0",
            "_view_name": "LabelView",
            "description": "",
            "description_tooltip": null,
            "layout": "IPY_MODEL_1479df49007a4b84bf72aff0ff300461",
            "placeholder": "​",
            "style": "IPY_MODEL_7092531c150c4b67a5198cf428f45201",
            "value": "0.001 MB of 0.010 MB uploaded (0.000 MB deduped)\r"
          }
        },
        "63c917dcd4b44ffea0a55605bb716879": {
          "model_module": "@jupyter-widgets/controls",
          "model_name": "FloatProgressModel",
          "model_module_version": "1.5.0",
          "state": {
            "_dom_classes": [],
            "_model_module": "@jupyter-widgets/controls",
            "_model_module_version": "1.5.0",
            "_model_name": "FloatProgressModel",
            "_view_count": null,
            "_view_module": "@jupyter-widgets/controls",
            "_view_module_version": "1.5.0",
            "_view_name": "ProgressView",
            "bar_style": "",
            "description": "",
            "description_tooltip": null,
            "layout": "IPY_MODEL_a6cd6945b9704093a9f0a1055161c5cc",
            "max": 1,
            "min": 0,
            "orientation": "horizontal",
            "style": "IPY_MODEL_42d3d147cfc944c39049fc2697757e57",
            "value": 0.11037984204588192
          }
        },
        "e1949d2a96074bb09159b2e015bf146f": {
          "model_module": "@jupyter-widgets/base",
          "model_name": "LayoutModel",
          "model_module_version": "1.2.0",
          "state": {
            "_model_module": "@jupyter-widgets/base",
            "_model_module_version": "1.2.0",
            "_model_name": "LayoutModel",
            "_view_count": null,
            "_view_module": "@jupyter-widgets/base",
            "_view_module_version": "1.2.0",
            "_view_name": "LayoutView",
            "align_content": null,
            "align_items": null,
            "align_self": null,
            "border": null,
            "bottom": null,
            "display": null,
            "flex": null,
            "flex_flow": null,
            "grid_area": null,
            "grid_auto_columns": null,
            "grid_auto_flow": null,
            "grid_auto_rows": null,
            "grid_column": null,
            "grid_gap": null,
            "grid_row": null,
            "grid_template_areas": null,
            "grid_template_columns": null,
            "grid_template_rows": null,
            "height": null,
            "justify_content": null,
            "justify_items": null,
            "left": null,
            "margin": null,
            "max_height": null,
            "max_width": null,
            "min_height": null,
            "min_width": null,
            "object_fit": null,
            "object_position": null,
            "order": null,
            "overflow": null,
            "overflow_x": null,
            "overflow_y": null,
            "padding": null,
            "right": null,
            "top": null,
            "visibility": null,
            "width": null
          }
        },
        "1479df49007a4b84bf72aff0ff300461": {
          "model_module": "@jupyter-widgets/base",
          "model_name": "LayoutModel",
          "model_module_version": "1.2.0",
          "state": {
            "_model_module": "@jupyter-widgets/base",
            "_model_module_version": "1.2.0",
            "_model_name": "LayoutModel",
            "_view_count": null,
            "_view_module": "@jupyter-widgets/base",
            "_view_module_version": "1.2.0",
            "_view_name": "LayoutView",
            "align_content": null,
            "align_items": null,
            "align_self": null,
            "border": null,
            "bottom": null,
            "display": null,
            "flex": null,
            "flex_flow": null,
            "grid_area": null,
            "grid_auto_columns": null,
            "grid_auto_flow": null,
            "grid_auto_rows": null,
            "grid_column": null,
            "grid_gap": null,
            "grid_row": null,
            "grid_template_areas": null,
            "grid_template_columns": null,
            "grid_template_rows": null,
            "height": null,
            "justify_content": null,
            "justify_items": null,
            "left": null,
            "margin": null,
            "max_height": null,
            "max_width": null,
            "min_height": null,
            "min_width": null,
            "object_fit": null,
            "object_position": null,
            "order": null,
            "overflow": null,
            "overflow_x": null,
            "overflow_y": null,
            "padding": null,
            "right": null,
            "top": null,
            "visibility": null,
            "width": null
          }
        },
        "7092531c150c4b67a5198cf428f45201": {
          "model_module": "@jupyter-widgets/controls",
          "model_name": "DescriptionStyleModel",
          "model_module_version": "1.5.0",
          "state": {
            "_model_module": "@jupyter-widgets/controls",
            "_model_module_version": "1.5.0",
            "_model_name": "DescriptionStyleModel",
            "_view_count": null,
            "_view_module": "@jupyter-widgets/base",
            "_view_module_version": "1.2.0",
            "_view_name": "StyleView",
            "description_width": ""
          }
        },
        "a6cd6945b9704093a9f0a1055161c5cc": {
          "model_module": "@jupyter-widgets/base",
          "model_name": "LayoutModel",
          "model_module_version": "1.2.0",
          "state": {
            "_model_module": "@jupyter-widgets/base",
            "_model_module_version": "1.2.0",
            "_model_name": "LayoutModel",
            "_view_count": null,
            "_view_module": "@jupyter-widgets/base",
            "_view_module_version": "1.2.0",
            "_view_name": "LayoutView",
            "align_content": null,
            "align_items": null,
            "align_self": null,
            "border": null,
            "bottom": null,
            "display": null,
            "flex": null,
            "flex_flow": null,
            "grid_area": null,
            "grid_auto_columns": null,
            "grid_auto_flow": null,
            "grid_auto_rows": null,
            "grid_column": null,
            "grid_gap": null,
            "grid_row": null,
            "grid_template_areas": null,
            "grid_template_columns": null,
            "grid_template_rows": null,
            "height": null,
            "justify_content": null,
            "justify_items": null,
            "left": null,
            "margin": null,
            "max_height": null,
            "max_width": null,
            "min_height": null,
            "min_width": null,
            "object_fit": null,
            "object_position": null,
            "order": null,
            "overflow": null,
            "overflow_x": null,
            "overflow_y": null,
            "padding": null,
            "right": null,
            "top": null,
            "visibility": null,
            "width": null
          }
        },
        "42d3d147cfc944c39049fc2697757e57": {
          "model_module": "@jupyter-widgets/controls",
          "model_name": "ProgressStyleModel",
          "model_module_version": "1.5.0",
          "state": {
            "_model_module": "@jupyter-widgets/controls",
            "_model_module_version": "1.5.0",
            "_model_name": "ProgressStyleModel",
            "_view_count": null,
            "_view_module": "@jupyter-widgets/base",
            "_view_module_version": "1.2.0",
            "_view_name": "StyleView",
            "bar_color": null,
            "description_width": ""
          }
        }
      }
    }
  },
  "cells": [
    {
      "cell_type": "code",
      "execution_count": null,
      "metadata": {
        "id": "aR5lmiCvBOW-"
      },
      "outputs": [],
      "source": [
        "!nvidia-smi"
      ]
    },
    {
      "cell_type": "code",
      "source": [
        "import torch\n",
        "import torchvision\n",
        "import torchvision.transforms as transforms\n",
        "import torch.nn as nn\n",
        "import torch.optim as optim\n",
        "from torchvision.datasets import ImageFolder\n",
        "import matplotlib.pyplot as plt\n",
        "import numpy as np\n",
        "import tqdm\n",
        "import torch.optim as optim\n",
        "import torch.nn.functional as F\n",
        "from torch.utils.data import random_split"
      ],
      "metadata": {
        "id": "_Le2jCoBBX7d"
      },
      "execution_count": null,
      "outputs": []
    },
    {
      "cell_type": "code",
      "source": [
        "!pip install wget\n",
        "import wget\n",
        "wget.download('https://storage.googleapis.com/wandb_datasets/nature_12K.zip')\n",
        "!unzip /content/nature_12K.zip"
      ],
      "metadata": {
        "id": "-4k-z7SSBpBk"
      },
      "execution_count": null,
      "outputs": []
    },
    {
      "cell_type": "code",
      "source": [
        "!pip install --upgrade wandb\n",
        "!wandb login aa5afea12b4fda1e7f8310b597eb17c73d1176d2 #my API key for wandb login \n",
        "import wandb"
      ],
      "metadata": {
        "id": "oaKpZ0f9eQTD"
      },
      "execution_count": null,
      "outputs": []
    },
    {
      "cell_type": "markdown",
      "source": [
        "# **Dataset creation(augmentation)**"
      ],
      "metadata": {
        "id": "psdONUPYbGEe"
      }
    },
    {
      "cell_type": "code",
      "source": [
        "def dataset_creation(data_augmentation=True):\n",
        "  if data_augmentation:\n",
        "    train_transforms = transforms.Compose([\n",
        "        transforms.Resize((224,224)),\n",
        "        transforms.RandomHorizontalFlip(),\n",
        "        transforms.RandomRotation(degrees=30),\n",
        "        transforms.ColorJitter(brightness=0.4, contrast=0.4, saturation=0.4, hue=0.1),\n",
        "        transforms.RandomAffine(degrees=30, translate=(0.1, 0.1), scale=(0.8, 1.2), shear=10),\n",
        "        transforms.ToTensor(),\n",
        "        transforms.Normalize([0.485, 0.456, 0.406], [0.229, 0.224, 0.225])\n",
        "        #These values are standard values used in imagenet competition\n",
        "    ])\n",
        "  else:\n",
        "        train_transforms = transforms.Compose([\n",
        "        transforms.Resize((224,224)),\n",
        "        transforms.ToTensor(),\n",
        "        transforms.Normalize([0.485, 0.456, 0.406], [0.229, 0.224, 0.225])\n",
        "        #These values are standard values used in imagenet competition\n",
        "    ])\n",
        "  \n",
        "  val_transforms = transforms.Compose([\n",
        "      transforms.Resize((224,224)),\n",
        "      transforms.ToTensor(),\n",
        "      transforms.Normalize([0.485, 0.456, 0.406], [0.229, 0.224, 0.225])\n",
        "      #These values are standard values used in imagenet competition\n",
        "  ])\n",
        "\n",
        "  # Create training and validation datasets\n",
        "  train_dataset = ImageFolder('/content/inaturalist_12K/train', transform=train_transforms)\n",
        "  train_size = int(0.8 * len(train_dataset))\n",
        "  val_size = len(train_dataset) - train_size\n",
        "  train_dataset, val_dataset = random_split(train_dataset, [train_size, val_size])\n",
        "  test_dataset = ImageFolder('/content/inaturalist_12K/val', transform=val_transforms)\n",
        "   \n",
        "  # Create training and validation data loaders\n",
        "  BATCH_SIZE=32\n",
        "  train_loader = torch.utils.data.DataLoader(train_dataset, batch_size=BATCH_SIZE, shuffle=True, num_workers=2)\n",
        "  val_loader = torch.utils.data.DataLoader(val_dataset, batch_size=BATCH_SIZE, shuffle=False, num_workers=2)\n",
        "  return train_loader,val_loader\n",
        "\n",
        "train_loader,val_loader=dataset_creation()\n",
        "#BELOW LINES USED FOR DEBUGGING\n",
        "'''\n",
        "print(f\"Data loader: {train_loader,val_loader}\")\n",
        "print(f\"Length of train dataset loader:{len(train_loader)}\")\n",
        "train_features_batch,train_labels_batch=next(iter(train_loader))\n",
        "train_features_batch.shape,train_labels_batch.shape'''"
      ],
      "metadata": {
        "colab": {
          "base_uri": "https://localhost:8080/"
        },
        "id": "J28czkmIBqlq",
        "outputId": "73ed303d-3407-4f3c-e141-b1623b38a509"
      },
      "execution_count": null,
      "outputs": [
        {
          "output_type": "stream",
          "name": "stdout",
          "text": [
            "Data loader: (<torch.utils.data.dataloader.DataLoader object at 0x7fb8d72cdd90>, <torch.utils.data.dataloader.DataLoader object at 0x7fb8d72cde50>)\n",
            "Length of train dataset loader:250\n"
          ]
        },
        {
          "output_type": "execute_result",
          "data": {
            "text/plain": [
              "(torch.Size([32, 3, 224, 224]), torch.Size([32]))"
            ]
          },
          "metadata": {},
          "execution_count": 5
        }
      ]
    },
    {
      "cell_type": "markdown",
      "source": [
        "# **VGG model**\n",
        "Tried training on it, but the model is very bulky and highly dependent on hyperparameter tuning"
      ],
      "metadata": {
        "id": "_WeW3HokbdhF"
      }
    },
    {
      "cell_type": "code",
      "source": [
        "'''# # vgg16 model\n",
        "def vgg(f_percent):\n",
        "    vgg16_model = models.vgg16_bn(pretrained=True)\n",
        "\n",
        "    counttotal = 0\n",
        "    total_layers_freezed = f_percent \n",
        "    for param in vgg16_model.features.parameters():\n",
        "        param.requires_grad = True\n",
        "        counttotal += 1\n",
        "    count = 0\n",
        "    for param in vgg16_model.features.parameters():\n",
        "        if count<int(total_layers_freezed*counttotal):\n",
        "            param.requires_grad = False\n",
        "            count+=1\n",
        "\n",
        "    num_features = vgg16_model.classifier[6].in_features\n",
        "    features = list(vgg16_model.classifier.children())[:-1]\n",
        "    features.extend([nn.Linear(num_features, 10)])\n",
        "    vgg16_model.classifier = nn.Sequential(*features)\n",
        "\n",
        "    return vgg16_model'''"
      ],
      "metadata": {
        "id": "68N3VOQEjzQ0"
      },
      "execution_count": null,
      "outputs": []
    },
    {
      "cell_type": "markdown",
      "source": [
        "# **EfficientVetV2**\n",
        "you need to install timm to use EfficientNet in PyTorch because timm provides PyTorch implementations of the EfficientNet models"
      ],
      "metadata": {
        "id": "GsI9aymFbpyP"
      }
    },
    {
      "cell_type": "code",
      "source": [
        "!pip install timm"
      ],
      "metadata": {
        "id": "ukJ-7pPXKAXT"
      },
      "execution_count": null,
      "outputs": []
    },
    {
      "cell_type": "code",
      "source": [
        "import torch\n",
        "import timm\n",
        "\n",
        "def efficientnet(freeze_percent):\n",
        "    # Load the EfficientNetV2 model with pre-trained weights\n",
        "    model = timm.create_model('tf_efficientnetv2_s', pretrained=True)\n",
        "    \n",
        "    # Freeze a percentage of layers\n",
        "    count_total = sum(1 for _ in model.parameters())\n",
        "    count = 0\n",
        "    for param in model.parameters():\n",
        "        if count < int(freeze_percent * count_total):\n",
        "            param.requires_grad = False\n",
        "            count += 1\n",
        "        else:\n",
        "            break\n",
        "    \n",
        "    # Replace the last layer with a new one for the specified number of classes\n",
        "    num_features = model.classifier.in_features\n",
        "    model.classifier = nn.Linear(num_features, 10)\n",
        "    \n",
        "    return model"
      ],
      "metadata": {
        "id": "IBvpFg3Np3Mc"
      },
      "execution_count": null,
      "outputs": []
    },
    {
      "cell_type": "markdown",
      "source": [
        "# **Sweeping over hyperparameters**"
      ],
      "metadata": {
        "id": "D80OdVs8mghw"
      }
    },
    {
      "cell_type": "code",
      "source": [
        "sweep_config = {\n",
        "    'method': 'grid', #grid, random,bayes\n",
        "    'metric': {\n",
        "      'name': 'val_accuracy',\n",
        "      'goal': 'maximize'  \n",
        "    },\n",
        "    'parameters': {\n",
        "        'freeze_percent': {\n",
        "            'values': [0.25]\n",
        "        },        \n",
        "        'learning_rate':{\n",
        "            'values':[0.0001,0.0003]\n",
        "        },\n",
        "        'beta1':{\n",
        "            'values':[0.9,0.93,0.95]\n",
        "        }\n",
        "        \n",
        "    }\n",
        "}\n",
        "\n",
        "sweep_id = wandb.sweep(sweep_config, entity='shreyashgadgil007', project=\"CS6910-Assignment2\")\n",
        "\n",
        "def sweep_train():\n",
        "  # Default values for hyper-parameters we're going to sweep over\n",
        "  config_defaults = {\n",
        "      'freeze_percent':0.25,\n",
        "      'learning_rate':0.0003,\n",
        "      'beta1':0.93,\n",
        "  }\n",
        "\n",
        "  # Initialize a new wandb run\n",
        "  wandb.init(project='CS6910-Assignment2', entity='shreyashgadgil007',config=config_defaults)\n",
        "  wandb.run.name = 'fp:'+ str(wandb.config.freeze_percent)+' ;lr:'+str(wandb.config.learning_rate)+ ' ;beta1:'+str(wandb.config.beta1)\n",
        "\n",
        "  \n",
        "  config = wandb.config\n",
        "  freeze_percent = config.freeze_percent\n",
        "  learning_rate = config.learning_rate\n",
        "  beta1 = config.beta1\n",
        "  # Model training here\n",
        "  #device = torch.device(\"cuda\" if torch.cuda.is_available() else \"cpu\")\n",
        "  model = efficientnet(freeze_percent).to(device)\n",
        "  train_loader,val_loader=dataset_creation()\n",
        "  criterion = nn.CrossEntropyLoss()\n",
        "  optimizer = optim.Adam(model.parameters(),lr=learning_rate, betas=(beta1,0.9999))#using adam\n",
        "  num_epochs = 10\n",
        "  for epoch in range(num_epochs):\n",
        "          # Set to training mode\n",
        "          model.train()\n",
        "\n",
        "          running_loss = 0.0\n",
        "          running_corrects = 0\n",
        "          for inputs, labels in train_loader:\n",
        "              inputs, labels = inputs.to(device), labels.to(device)\n",
        "\n",
        "              # Zero the parameter gradients\n",
        "              optimizer.zero_grad()\n",
        "\n",
        "              # Forward pass\n",
        "              outputs = model(inputs)\n",
        "              _, preds = torch.max(outputs, 1)\n",
        "              loss = criterion(outputs, labels)\n",
        "              \n",
        "              # Backward pass and optimize\n",
        "              loss.backward()\n",
        "              optimizer.step()\n",
        "\n",
        "              # Statistics\n",
        "              running_loss += loss.item() * inputs.size(0)\n",
        "              running_corrects += torch.sum(preds == labels.data)\n",
        "\n",
        "          train_epoch_loss = running_loss / len(train_loader.dataset)\n",
        "          train_epoch_acc = (running_corrects.double() / len(train_loader.dataset))*100\n",
        "\n",
        "          # Evaluate on validation set\n",
        "          model.eval()\n",
        "\n",
        "          running_loss = 0.0\n",
        "          running_corrects = 0\n",
        "          with torch.no_grad():\n",
        "              for inputs, labels in val_loader:\n",
        "                  inputs, labels = inputs.to(device), labels.to(device)\n",
        "\n",
        "                  # Forward pass\n",
        "                  outputs = model(inputs)\n",
        "                  _, preds = torch.max(outputs, 1)\n",
        "                  loss = criterion(outputs, labels)\n",
        "\n",
        "                  # Statistics\n",
        "                  running_loss += loss.item() * inputs.size(0)\n",
        "                  running_corrects += torch.sum(preds == labels.data)\n",
        "\n",
        "          val_epoch_loss = running_loss / len(val_loader.dataset)\n",
        "          val_epoch_acc = (running_corrects.double() / len(val_loader.dataset))*100\n",
        "          \n",
        "          print(f\"Epoch {epoch+1}/{num_epochs}--> Training_Loss:{train_epoch_loss:.2f}; Train_Accuracy:{train_epoch_acc:.2f}; Validation_Loss:{val_epoch_loss:.2f}; Val_Accuracy:{val_epoch_acc:.2f}\")\n",
        "          wandb.log({\"train_loss\":train_epoch_loss,\"train_accuracy\": train_epoch_acc,\"val_loss\":val_epoch_loss,\"val_accuracy\":val_epoch_acc},)\n",
        "          if epoch==num_epochs-1:\n",
        "            torch.cuda.empty_cache()\n",
        "\n",
        "\n",
        "wandb.agent(sweep_id, function=sweep_train, count=6)"
      ],
      "metadata": {
        "colab": {
          "base_uri": "https://localhost:8080/",
          "height": 1000,
          "referenced_widgets": [
            "a213ba3a8e9e44fda722d4001b9dd1ff",
            "641cc71fa4404ab4a0b96054a71f2d2a",
            "813fb12fcee340e19649ebbe90b45913",
            "61092af77ed840b3a2a474d8a12a4909",
            "a293ddece22144a983b08a2ece5b8ec0",
            "378f314bae844adc872f7b2be55e6330",
            "62bf9ba6c57c48f6bee60af62ff2512a",
            "032327df18554a2d940e3f4ce4556afb",
            "593c54ac1840447ab8aefb0639678eff",
            "c8f93a3d603d4c7a8c32a1ca7fea9bf2",
            "00d53fe81294498bb0bed558fcaa19bf",
            "aafd8a0f56fc488eb3f40f3b0c82559c",
            "31b05c9506f946518d70c4dd291e5ef5",
            "b03d76d8ba474d648b9384f14e61e278",
            "de187736b3e1414f8d2935c49fd6b7a6",
            "82bccfde4a9049d9ae722baae8c08fff",
            "41dae2a20a354b5aa3e31ffcd06b1dc6",
            "de04c3646be94cca974a1d507c20b425",
            "63c917dcd4b44ffea0a55605bb716879",
            "e1949d2a96074bb09159b2e015bf146f",
            "1479df49007a4b84bf72aff0ff300461",
            "7092531c150c4b67a5198cf428f45201",
            "a6cd6945b9704093a9f0a1055161c5cc",
            "42d3d147cfc944c39049fc2697757e57"
          ]
        },
        "id": "vpTyvC7-Dkj9",
        "outputId": "9282b88e-c2c3-4175-d3bb-217f81847b52"
      },
      "execution_count": null,
      "outputs": [
        {
          "metadata": {
            "tags": null
          },
          "name": "stdout",
          "output_type": "stream",
          "text": [
            "Create sweep with ID: 2ju5fl58\n",
            "Sweep URL: https://wandb.ai/shreyashgadgil007/CS6910-Assignment2/sweeps/2ju5fl58\n"
          ]
        },
        {
          "metadata": {
            "tags": null
          },
          "name": "stderr",
          "output_type": "stream",
          "text": [
            "\u001b[34m\u001b[1mwandb\u001b[0m: Agent Starting Run: njjqrcck with config:\n",
            "\u001b[34m\u001b[1mwandb\u001b[0m: \tbeta1: 0.9\n",
            "\u001b[34m\u001b[1mwandb\u001b[0m: \tfreeze_percent: 0.25\n",
            "\u001b[34m\u001b[1mwandb\u001b[0m: \tlearning_rate: 0.0001\n",
            "\u001b[34m\u001b[1mwandb\u001b[0m: Currently logged in as: \u001b[33mshreyashgadgil007\u001b[0m. Use \u001b[1m`wandb login --relogin`\u001b[0m to force relogin\n",
            "\u001b[34m\u001b[1mwandb\u001b[0m: \u001b[33mWARNING\u001b[0m Ignored wandb.init() arg project when running a sweep.\n",
            "\u001b[34m\u001b[1mwandb\u001b[0m: \u001b[33mWARNING\u001b[0m Ignored wandb.init() arg entity when running a sweep.\n"
          ]
        },
        {
          "data": {
            "text/html": [
              "Tracking run with wandb version 0.14.2"
            ],
            "text/plain": [
              "<IPython.core.display.HTML object>"
            ]
          },
          "metadata": {},
          "output_type": "display_data"
        },
        {
          "data": {
            "text/html": [
              "Run data is saved locally in <code>/content/wandb/run-20230411_170252-njjqrcck</code>"
            ],
            "text/plain": [
              "<IPython.core.display.HTML object>"
            ]
          },
          "metadata": {},
          "output_type": "display_data"
        },
        {
          "data": {
            "text/html": [
              "Syncing run <strong><a href='https://wandb.ai/shreyashgadgil007/CS6910-Assignment2/runs/njjqrcck' target=\"_blank\">glowing-sweep-1</a></strong> to <a href='https://wandb.ai/shreyashgadgil007/CS6910-Assignment2' target=\"_blank\">Weights & Biases</a> (<a href='https://wandb.me/run' target=\"_blank\">docs</a>)<br/>Sweep page: <a href='https://wandb.ai/shreyashgadgil007/CS6910-Assignment2/sweeps/2ju5fl58' target=\"_blank\">https://wandb.ai/shreyashgadgil007/CS6910-Assignment2/sweeps/2ju5fl58</a>"
            ],
            "text/plain": [
              "<IPython.core.display.HTML object>"
            ]
          },
          "metadata": {},
          "output_type": "display_data"
        },
        {
          "data": {
            "text/html": [
              " View project at <a href='https://wandb.ai/shreyashgadgil007/CS6910-Assignment2' target=\"_blank\">https://wandb.ai/shreyashgadgil007/CS6910-Assignment2</a>"
            ],
            "text/plain": [
              "<IPython.core.display.HTML object>"
            ]
          },
          "metadata": {},
          "output_type": "display_data"
        },
        {
          "data": {
            "text/html": [
              " View sweep at <a href='https://wandb.ai/shreyashgadgil007/CS6910-Assignment2/sweeps/2ju5fl58' target=\"_blank\">https://wandb.ai/shreyashgadgil007/CS6910-Assignment2/sweeps/2ju5fl58</a>"
            ],
            "text/plain": [
              "<IPython.core.display.HTML object>"
            ]
          },
          "metadata": {},
          "output_type": "display_data"
        },
        {
          "data": {
            "text/html": [
              " View run at <a href='https://wandb.ai/shreyashgadgil007/CS6910-Assignment2/runs/njjqrcck' target=\"_blank\">https://wandb.ai/shreyashgadgil007/CS6910-Assignment2/runs/njjqrcck</a>"
            ],
            "text/plain": [
              "<IPython.core.display.HTML object>"
            ]
          },
          "metadata": {},
          "output_type": "display_data"
        },
        {
          "metadata": {
            "tags": null
          },
          "name": "stderr",
          "output_type": "stream",
          "text": [
            "Downloading: \"https://github.com/rwightman/pytorch-image-models/releases/download/v0.1-effv2-weights/tf_efficientnetv2_s-eb54923e.pth\" to /root/.cache/torch/hub/checkpoints/tf_efficientnetv2_s-eb54923e.pth\n"
          ]
        },
        {
          "metadata": {
            "tags": null
          },
          "name": "stdout",
          "output_type": "stream",
          "text": [
            "Epoch 1/10--> Training_Loss:1.30; Train_Accuracy:60.71; Validation_Loss:0.74; Val_Accuracy:76.50\n",
            "Epoch 2/10--> Training_Loss:0.66; Train_Accuracy:78.97; Validation_Loss:0.61; Val_Accuracy:81.00\n",
            "Epoch 3/10--> Training_Loss:0.48; Train_Accuracy:84.85; Validation_Loss:0.62; Val_Accuracy:80.45\n",
            "Epoch 4/10--> Training_Loss:0.35; Train_Accuracy:89.05; Validation_Loss:0.61; Val_Accuracy:80.40\n",
            "Epoch 5/10--> Training_Loss:0.28; Train_Accuracy:90.69; Validation_Loss:0.63; Val_Accuracy:80.40\n",
            "Epoch 6/10--> Training_Loss:0.23; Train_Accuracy:92.37; Validation_Loss:0.65; Val_Accuracy:80.60\n",
            "Epoch 7/10--> Training_Loss:0.18; Train_Accuracy:94.25; Validation_Loss:0.70; Val_Accuracy:80.40\n",
            "Epoch 8/10--> Training_Loss:0.14; Train_Accuracy:95.76; Validation_Loss:0.70; Val_Accuracy:81.15\n",
            "Epoch 9/10--> Training_Loss:0.13; Train_Accuracy:96.12; Validation_Loss:0.72; Val_Accuracy:80.35\n",
            "Epoch 10/10--> Training_Loss:0.12; Train_Accuracy:96.24; Validation_Loss:0.74; Val_Accuracy:80.60\n"
          ]
        },
        {
          "data": {
            "text/html": [
              "Waiting for W&B process to finish... <strong style=\"color:green\">(success).</strong>"
            ],
            "text/plain": [
              "<IPython.core.display.HTML object>"
            ]
          },
          "metadata": {},
          "output_type": "display_data"
        },
        {
          "data": {
            "text/html": [
              "<style>\n",
              "    table.wandb td:nth-child(1) { padding: 0 10px; text-align: left ; width: auto;} td:nth-child(2) {text-align: left ; width: 100%}\n",
              "    .wandb-row { display: flex; flex-direction: row; flex-wrap: wrap; justify-content: flex-start; width: 100% }\n",
              "    .wandb-col { display: flex; flex-direction: column; flex-basis: 100%; flex: 1; padding: 10px; }\n",
              "    </style>\n",
              "<div class=\"wandb-row\"><div class=\"wandb-col\"><h3>Run history:</h3><br/><table class=\"wandb\"><tr><td>train_accuracy</td><td>▁▅▆▇▇▇████</td></tr><tr><td>train_loss</td><td>█▄▃▂▂▂▁▁▁▁</td></tr><tr><td>val_accuracy</td><td>▁█▇▇▇▇▇█▇▇</td></tr><tr><td>val_loss</td><td>█▁▂▁▂▄▆▆▇█</td></tr></table><br/></div><div class=\"wandb-col\"><h3>Run summary:</h3><br/><table class=\"wandb\"><tr><td>train_accuracy</td><td>96.23703</td></tr><tr><td>train_loss</td><td>0.11944</td></tr><tr><td>val_accuracy</td><td>80.6</td></tr><tr><td>val_loss</td><td>0.73696</td></tr></table><br/></div></div>"
            ],
            "text/plain": [
              "<IPython.core.display.HTML object>"
            ]
          },
          "metadata": {},
          "output_type": "display_data"
        },
        {
          "data": {
            "text/html": [
              " View run <strong style=\"color:#cdcd00\">glowing-sweep-1</strong> at: <a href='https://wandb.ai/shreyashgadgil007/CS6910-Assignment2/runs/njjqrcck' target=\"_blank\">https://wandb.ai/shreyashgadgil007/CS6910-Assignment2/runs/njjqrcck</a><br/>Synced 5 W&B file(s), 0 media file(s), 0 artifact file(s) and 0 other file(s)"
            ],
            "text/plain": [
              "<IPython.core.display.HTML object>"
            ]
          },
          "metadata": {},
          "output_type": "display_data"
        },
        {
          "data": {
            "text/html": [
              "Find logs at: <code>./wandb/run-20230411_170252-njjqrcck/logs</code>"
            ],
            "text/plain": [
              "<IPython.core.display.HTML object>"
            ]
          },
          "metadata": {},
          "output_type": "display_data"
        },
        {
          "metadata": {
            "tags": null
          },
          "name": "stderr",
          "output_type": "stream",
          "text": [
            "\u001b[34m\u001b[1mwandb\u001b[0m: Agent Starting Run: palkgjlp with config:\n",
            "\u001b[34m\u001b[1mwandb\u001b[0m: \tbeta1: 0.9\n",
            "\u001b[34m\u001b[1mwandb\u001b[0m: \tfreeze_percent: 0.25\n",
            "\u001b[34m\u001b[1mwandb\u001b[0m: \tlearning_rate: 0.0003\n",
            "\u001b[34m\u001b[1mwandb\u001b[0m: \u001b[33mWARNING\u001b[0m Ignored wandb.init() arg project when running a sweep.\n",
            "\u001b[34m\u001b[1mwandb\u001b[0m: \u001b[33mWARNING\u001b[0m Ignored wandb.init() arg entity when running a sweep.\n"
          ]
        },
        {
          "data": {
            "text/html": [
              "Tracking run with wandb version 0.14.2"
            ],
            "text/plain": [
              "<IPython.core.display.HTML object>"
            ]
          },
          "metadata": {},
          "output_type": "display_data"
        },
        {
          "data": {
            "text/html": [
              "Run data is saved locally in <code>/content/wandb/run-20230411_173919-palkgjlp</code>"
            ],
            "text/plain": [
              "<IPython.core.display.HTML object>"
            ]
          },
          "metadata": {},
          "output_type": "display_data"
        },
        {
          "data": {
            "text/html": [
              "Syncing run <strong><a href='https://wandb.ai/shreyashgadgil007/CS6910-Assignment2/runs/palkgjlp' target=\"_blank\">wobbly-sweep-2</a></strong> to <a href='https://wandb.ai/shreyashgadgil007/CS6910-Assignment2' target=\"_blank\">Weights & Biases</a> (<a href='https://wandb.me/run' target=\"_blank\">docs</a>)<br/>Sweep page: <a href='https://wandb.ai/shreyashgadgil007/CS6910-Assignment2/sweeps/2ju5fl58' target=\"_blank\">https://wandb.ai/shreyashgadgil007/CS6910-Assignment2/sweeps/2ju5fl58</a>"
            ],
            "text/plain": [
              "<IPython.core.display.HTML object>"
            ]
          },
          "metadata": {},
          "output_type": "display_data"
        },
        {
          "data": {
            "text/html": [
              " View project at <a href='https://wandb.ai/shreyashgadgil007/CS6910-Assignment2' target=\"_blank\">https://wandb.ai/shreyashgadgil007/CS6910-Assignment2</a>"
            ],
            "text/plain": [
              "<IPython.core.display.HTML object>"
            ]
          },
          "metadata": {},
          "output_type": "display_data"
        },
        {
          "data": {
            "text/html": [
              " View sweep at <a href='https://wandb.ai/shreyashgadgil007/CS6910-Assignment2/sweeps/2ju5fl58' target=\"_blank\">https://wandb.ai/shreyashgadgil007/CS6910-Assignment2/sweeps/2ju5fl58</a>"
            ],
            "text/plain": [
              "<IPython.core.display.HTML object>"
            ]
          },
          "metadata": {},
          "output_type": "display_data"
        },
        {
          "data": {
            "text/html": [
              " View run at <a href='https://wandb.ai/shreyashgadgil007/CS6910-Assignment2/runs/palkgjlp' target=\"_blank\">https://wandb.ai/shreyashgadgil007/CS6910-Assignment2/runs/palkgjlp</a>"
            ],
            "text/plain": [
              "<IPython.core.display.HTML object>"
            ]
          },
          "metadata": {},
          "output_type": "display_data"
        },
        {
          "metadata": {
            "tags": null
          },
          "name": "stdout",
          "output_type": "stream",
          "text": [
            "Epoch 1/10--> Training_Loss:1.08; Train_Accuracy:65.17; Validation_Loss:0.79; Val_Accuracy:73.30\n",
            "Epoch 2/10--> Training_Loss:0.64; Train_Accuracy:78.72; Validation_Loss:0.70; Val_Accuracy:77.40\n",
            "Epoch 3/10--> Training_Loss:0.49; Train_Accuracy:84.35; Validation_Loss:0.69; Val_Accuracy:77.65\n",
            "Epoch 4/10--> Training_Loss:0.38; Train_Accuracy:87.32; Validation_Loss:0.74; Val_Accuracy:77.00\n",
            "Epoch 5/10--> Training_Loss:0.30; Train_Accuracy:89.95; Validation_Loss:0.74; Val_Accuracy:77.95\n",
            "Epoch 6/10--> Training_Loss:0.26; Train_Accuracy:91.35; Validation_Loss:0.86; Val_Accuracy:76.90\n",
            "Epoch 7/10--> Training_Loss:0.22; Train_Accuracy:92.81; Validation_Loss:0.84; Val_Accuracy:76.85\n",
            "Epoch 8/10--> Training_Loss:0.19; Train_Accuracy:93.79; Validation_Loss:0.90; Val_Accuracy:76.25\n",
            "Epoch 9/10--> Training_Loss:0.19; Train_Accuracy:93.81; Validation_Loss:0.97; Val_Accuracy:75.20\n",
            "Epoch 10/10--> Training_Loss:0.16; Train_Accuracy:94.80; Validation_Loss:0.88; Val_Accuracy:77.70\n"
          ]
        },
        {
          "data": {
            "text/html": [
              "Waiting for W&B process to finish... <strong style=\"color:green\">(success).</strong>"
            ],
            "text/plain": [
              "<IPython.core.display.HTML object>"
            ]
          },
          "metadata": {},
          "output_type": "display_data"
        },
        {
          "data": {
            "application/vnd.jupyter.widget-view+json": {
              "model_id": "a213ba3a8e9e44fda722d4001b9dd1ff",
              "version_major": 2,
              "version_minor": 0
            },
            "text/plain": [
              "VBox(children=(Label(value='0.001 MB of 0.001 MB uploaded (0.000 MB deduped)\\r'), FloatProgress(value=1.0, max…"
            ]
          },
          "metadata": {},
          "output_type": "display_data"
        },
        {
          "data": {
            "text/html": [
              "<style>\n",
              "    table.wandb td:nth-child(1) { padding: 0 10px; text-align: left ; width: auto;} td:nth-child(2) {text-align: left ; width: 100%}\n",
              "    .wandb-row { display: flex; flex-direction: row; flex-wrap: wrap; justify-content: flex-start; width: 100% }\n",
              "    .wandb-col { display: flex; flex-direction: column; flex-basis: 100%; flex: 1; padding: 10px; }\n",
              "    </style>\n",
              "<div class=\"wandb-row\"><div class=\"wandb-col\"><h3>Run history:</h3><br/><table class=\"wandb\"><tr><td>train_accuracy</td><td>▁▄▆▆▇▇████</td></tr><tr><td>train_loss</td><td>█▅▃▃▂▂▁▁▁▁</td></tr><tr><td>val_accuracy</td><td>▁▇█▇█▆▆▅▄█</td></tr><tr><td>val_loss</td><td>▄▁▁▂▂▅▅▆█▆</td></tr></table><br/></div><div class=\"wandb-col\"><h3>Run summary:</h3><br/><table class=\"wandb\"><tr><td>train_accuracy</td><td>94.79935</td></tr><tr><td>train_loss</td><td>0.16155</td></tr><tr><td>val_accuracy</td><td>77.7</td></tr><tr><td>val_loss</td><td>0.88425</td></tr></table><br/></div></div>"
            ],
            "text/plain": [
              "<IPython.core.display.HTML object>"
            ]
          },
          "metadata": {},
          "output_type": "display_data"
        },
        {
          "data": {
            "text/html": [
              " View run <strong style=\"color:#cdcd00\">wobbly-sweep-2</strong> at: <a href='https://wandb.ai/shreyashgadgil007/CS6910-Assignment2/runs/palkgjlp' target=\"_blank\">https://wandb.ai/shreyashgadgil007/CS6910-Assignment2/runs/palkgjlp</a><br/>Synced 5 W&B file(s), 0 media file(s), 0 artifact file(s) and 0 other file(s)"
            ],
            "text/plain": [
              "<IPython.core.display.HTML object>"
            ]
          },
          "metadata": {},
          "output_type": "display_data"
        },
        {
          "data": {
            "text/html": [
              "Find logs at: <code>./wandb/run-20230411_173919-palkgjlp/logs</code>"
            ],
            "text/plain": [
              "<IPython.core.display.HTML object>"
            ]
          },
          "metadata": {},
          "output_type": "display_data"
        },
        {
          "metadata": {
            "tags": null
          },
          "name": "stderr",
          "output_type": "stream",
          "text": [
            "\u001b[34m\u001b[1mwandb\u001b[0m: Agent Starting Run: bzycd5sq with config:\n",
            "\u001b[34m\u001b[1mwandb\u001b[0m: \tbeta1: 0.93\n",
            "\u001b[34m\u001b[1mwandb\u001b[0m: \tfreeze_percent: 0.25\n",
            "\u001b[34m\u001b[1mwandb\u001b[0m: \tlearning_rate: 0.0001\n",
            "\u001b[34m\u001b[1mwandb\u001b[0m: \u001b[33mWARNING\u001b[0m Ignored wandb.init() arg project when running a sweep.\n",
            "\u001b[34m\u001b[1mwandb\u001b[0m: \u001b[33mWARNING\u001b[0m Ignored wandb.init() arg entity when running a sweep.\n"
          ]
        },
        {
          "data": {
            "text/html": [
              "Tracking run with wandb version 0.14.2"
            ],
            "text/plain": [
              "<IPython.core.display.HTML object>"
            ]
          },
          "metadata": {},
          "output_type": "display_data"
        },
        {
          "data": {
            "text/html": [
              "Run data is saved locally in <code>/content/wandb/run-20230411_181510-bzycd5sq</code>"
            ],
            "text/plain": [
              "<IPython.core.display.HTML object>"
            ]
          },
          "metadata": {},
          "output_type": "display_data"
        },
        {
          "data": {
            "text/html": [
              "Syncing run <strong><a href='https://wandb.ai/shreyashgadgil007/CS6910-Assignment2/runs/bzycd5sq' target=\"_blank\">wise-sweep-3</a></strong> to <a href='https://wandb.ai/shreyashgadgil007/CS6910-Assignment2' target=\"_blank\">Weights & Biases</a> (<a href='https://wandb.me/run' target=\"_blank\">docs</a>)<br/>Sweep page: <a href='https://wandb.ai/shreyashgadgil007/CS6910-Assignment2/sweeps/2ju5fl58' target=\"_blank\">https://wandb.ai/shreyashgadgil007/CS6910-Assignment2/sweeps/2ju5fl58</a>"
            ],
            "text/plain": [
              "<IPython.core.display.HTML object>"
            ]
          },
          "metadata": {},
          "output_type": "display_data"
        },
        {
          "data": {
            "text/html": [
              " View project at <a href='https://wandb.ai/shreyashgadgil007/CS6910-Assignment2' target=\"_blank\">https://wandb.ai/shreyashgadgil007/CS6910-Assignment2</a>"
            ],
            "text/plain": [
              "<IPython.core.display.HTML object>"
            ]
          },
          "metadata": {},
          "output_type": "display_data"
        },
        {
          "data": {
            "text/html": [
              " View sweep at <a href='https://wandb.ai/shreyashgadgil007/CS6910-Assignment2/sweeps/2ju5fl58' target=\"_blank\">https://wandb.ai/shreyashgadgil007/CS6910-Assignment2/sweeps/2ju5fl58</a>"
            ],
            "text/plain": [
              "<IPython.core.display.HTML object>"
            ]
          },
          "metadata": {},
          "output_type": "display_data"
        },
        {
          "data": {
            "text/html": [
              " View run at <a href='https://wandb.ai/shreyashgadgil007/CS6910-Assignment2/runs/bzycd5sq' target=\"_blank\">https://wandb.ai/shreyashgadgil007/CS6910-Assignment2/runs/bzycd5sq</a>"
            ],
            "text/plain": [
              "<IPython.core.display.HTML object>"
            ]
          },
          "metadata": {},
          "output_type": "display_data"
        },
        {
          "output_type": "stream",
          "name": "stdout",
          "text": [
            "Epoch 1/10--> Training_Loss:1.32; Train_Accuracy:59.96; Validation_Loss:0.74; Val_Accuracy:76.80\n",
            "Epoch 2/10--> Training_Loss:0.67; Train_Accuracy:78.70; Validation_Loss:0.65; Val_Accuracy:79.25\n",
            "Epoch 3/10--> Training_Loss:0.48; Train_Accuracy:84.26; Validation_Loss:0.58; Val_Accuracy:80.50\n",
            "Epoch 4/10--> Training_Loss:0.35; Train_Accuracy:88.84; Validation_Loss:0.59; Val_Accuracy:81.95\n",
            "Epoch 5/10--> Training_Loss:0.27; Train_Accuracy:91.56; Validation_Loss:0.63; Val_Accuracy:80.60\n",
            "Epoch 6/10--> Training_Loss:0.24; Train_Accuracy:92.25; Validation_Loss:0.61; Val_Accuracy:81.60\n",
            "Epoch 7/10--> Training_Loss:0.18; Train_Accuracy:94.59; Validation_Loss:0.69; Val_Accuracy:79.95\n",
            "Epoch 8/10--> Training_Loss:0.15; Train_Accuracy:95.40; Validation_Loss:0.71; Val_Accuracy:80.15\n",
            "Epoch 9/10--> Training_Loss:0.14; Train_Accuracy:95.64; Validation_Loss:0.69; Val_Accuracy:81.20\n",
            "Epoch 10/10--> Training_Loss:0.12; Train_Accuracy:96.47; Validation_Loss:0.70; Val_Accuracy:80.75\n"
          ]
        },
        {
          "output_type": "display_data",
          "data": {
            "text/plain": [
              "<IPython.core.display.HTML object>"
            ],
            "text/html": [
              "Waiting for W&B process to finish... <strong style=\"color:green\">(success).</strong>"
            ]
          },
          "metadata": {}
        },
        {
          "output_type": "display_data",
          "data": {
            "text/plain": [
              "VBox(children=(Label(value='0.001 MB of 0.001 MB uploaded (0.000 MB deduped)\\r'), FloatProgress(value=1.0, max…"
            ],
            "application/vnd.jupyter.widget-view+json": {
              "version_major": 2,
              "version_minor": 0,
              "model_id": "593c54ac1840447ab8aefb0639678eff"
            }
          },
          "metadata": {}
        },
        {
          "output_type": "display_data",
          "data": {
            "text/plain": [
              "<IPython.core.display.HTML object>"
            ],
            "text/html": [
              "<style>\n",
              "    table.wandb td:nth-child(1) { padding: 0 10px; text-align: left ; width: auto;} td:nth-child(2) {text-align: left ; width: 100%}\n",
              "    .wandb-row { display: flex; flex-direction: row; flex-wrap: wrap; justify-content: flex-start; width: 100% }\n",
              "    .wandb-col { display: flex; flex-direction: column; flex-basis: 100%; flex: 1; padding: 10px; }\n",
              "    </style>\n",
              "<div class=\"wandb-row\"><div class=\"wandb-col\"><h3>Run history:</h3><br/><table class=\"wandb\"><tr><td>train_accuracy</td><td>▁▅▆▇▇▇████</td></tr><tr><td>train_loss</td><td>█▄▃▂▂▂▁▁▁▁</td></tr><tr><td>val_accuracy</td><td>▁▄▆█▆█▅▆▇▆</td></tr><tr><td>val_loss</td><td>█▄▁▁▃▂▆▆▆▆</td></tr></table><br/></div><div class=\"wandb-col\"><h3>Run summary:</h3><br/><table class=\"wandb\"><tr><td>train_accuracy</td><td>96.47456</td></tr><tr><td>train_loss</td><td>0.11771</td></tr><tr><td>val_accuracy</td><td>80.75</td></tr><tr><td>val_loss</td><td>0.70215</td></tr></table><br/></div></div>"
            ]
          },
          "metadata": {}
        },
        {
          "output_type": "display_data",
          "data": {
            "text/plain": [
              "<IPython.core.display.HTML object>"
            ],
            "text/html": [
              " View run <strong style=\"color:#cdcd00\">wise-sweep-3</strong> at: <a href='https://wandb.ai/shreyashgadgil007/CS6910-Assignment2/runs/bzycd5sq' target=\"_blank\">https://wandb.ai/shreyashgadgil007/CS6910-Assignment2/runs/bzycd5sq</a><br/>Synced 5 W&B file(s), 0 media file(s), 0 artifact file(s) and 0 other file(s)"
            ]
          },
          "metadata": {}
        },
        {
          "output_type": "display_data",
          "data": {
            "text/plain": [
              "<IPython.core.display.HTML object>"
            ],
            "text/html": [
              "Find logs at: <code>./wandb/run-20230411_181510-bzycd5sq/logs</code>"
            ]
          },
          "metadata": {}
        },
        {
          "output_type": "stream",
          "name": "stderr",
          "text": [
            "\u001b[34m\u001b[1mwandb\u001b[0m: Agent Starting Run: cshp7j7o with config:\n",
            "\u001b[34m\u001b[1mwandb\u001b[0m: \tbeta1: 0.93\n",
            "\u001b[34m\u001b[1mwandb\u001b[0m: \tfreeze_percent: 0.25\n",
            "\u001b[34m\u001b[1mwandb\u001b[0m: \tlearning_rate: 0.0003\n",
            "\u001b[34m\u001b[1mwandb\u001b[0m: \u001b[33mWARNING\u001b[0m Ignored wandb.init() arg project when running a sweep.\n",
            "\u001b[34m\u001b[1mwandb\u001b[0m: \u001b[33mWARNING\u001b[0m Ignored wandb.init() arg entity when running a sweep.\n"
          ]
        },
        {
          "output_type": "display_data",
          "data": {
            "text/plain": [
              "<IPython.core.display.HTML object>"
            ],
            "text/html": [
              "Tracking run with wandb version 0.14.2"
            ]
          },
          "metadata": {}
        },
        {
          "output_type": "display_data",
          "data": {
            "text/plain": [
              "<IPython.core.display.HTML object>"
            ],
            "text/html": [
              "Run data is saved locally in <code>/content/wandb/run-20230411_185116-cshp7j7o</code>"
            ]
          },
          "metadata": {}
        },
        {
          "output_type": "display_data",
          "data": {
            "text/plain": [
              "<IPython.core.display.HTML object>"
            ],
            "text/html": [
              "Syncing run <strong><a href='https://wandb.ai/shreyashgadgil007/CS6910-Assignment2/runs/cshp7j7o' target=\"_blank\">eternal-sweep-4</a></strong> to <a href='https://wandb.ai/shreyashgadgil007/CS6910-Assignment2' target=\"_blank\">Weights & Biases</a> (<a href='https://wandb.me/run' target=\"_blank\">docs</a>)<br/>Sweep page: <a href='https://wandb.ai/shreyashgadgil007/CS6910-Assignment2/sweeps/2ju5fl58' target=\"_blank\">https://wandb.ai/shreyashgadgil007/CS6910-Assignment2/sweeps/2ju5fl58</a>"
            ]
          },
          "metadata": {}
        },
        {
          "output_type": "display_data",
          "data": {
            "text/plain": [
              "<IPython.core.display.HTML object>"
            ],
            "text/html": [
              " View project at <a href='https://wandb.ai/shreyashgadgil007/CS6910-Assignment2' target=\"_blank\">https://wandb.ai/shreyashgadgil007/CS6910-Assignment2</a>"
            ]
          },
          "metadata": {}
        },
        {
          "output_type": "display_data",
          "data": {
            "text/plain": [
              "<IPython.core.display.HTML object>"
            ],
            "text/html": [
              " View sweep at <a href='https://wandb.ai/shreyashgadgil007/CS6910-Assignment2/sweeps/2ju5fl58' target=\"_blank\">https://wandb.ai/shreyashgadgil007/CS6910-Assignment2/sweeps/2ju5fl58</a>"
            ]
          },
          "metadata": {}
        },
        {
          "output_type": "display_data",
          "data": {
            "text/plain": [
              "<IPython.core.display.HTML object>"
            ],
            "text/html": [
              " View run at <a href='https://wandb.ai/shreyashgadgil007/CS6910-Assignment2/runs/cshp7j7o' target=\"_blank\">https://wandb.ai/shreyashgadgil007/CS6910-Assignment2/runs/cshp7j7o</a>"
            ]
          },
          "metadata": {}
        },
        {
          "output_type": "stream",
          "name": "stdout",
          "text": [
            "Epoch 1/10--> Training_Loss:1.08; Train_Accuracy:65.28; Validation_Loss:0.78; Val_Accuracy:74.70\n",
            "Epoch 2/10--> Training_Loss:0.64; Train_Accuracy:79.35; Validation_Loss:0.72; Val_Accuracy:77.40\n",
            "Epoch 3/10--> Training_Loss:0.50; Train_Accuracy:84.07; Validation_Loss:0.76; Val_Accuracy:75.80\n",
            "Epoch 4/10--> Training_Loss:0.38; Train_Accuracy:87.45; Validation_Loss:0.73; Val_Accuracy:77.90\n",
            "Epoch 5/10--> Training_Loss:0.30; Train_Accuracy:89.96; Validation_Loss:0.79; Val_Accuracy:77.45\n",
            "Epoch 6/10--> Training_Loss:0.26; Train_Accuracy:91.42; Validation_Loss:0.80; Val_Accuracy:77.35\n",
            "Epoch 7/10--> Training_Loss:0.22; Train_Accuracy:92.56; Validation_Loss:0.79; Val_Accuracy:77.05\n",
            "Epoch 8/10--> Training_Loss:0.19; Train_Accuracy:93.61; Validation_Loss:0.87; Val_Accuracy:77.25\n",
            "Epoch 9/10--> Training_Loss:0.16; Train_Accuracy:94.70; Validation_Loss:0.92; Val_Accuracy:76.65\n",
            "Epoch 10/10--> Training_Loss:0.16; Train_Accuracy:94.81; Validation_Loss:0.91; Val_Accuracy:76.55\n"
          ]
        },
        {
          "output_type": "display_data",
          "data": {
            "text/plain": [
              "<IPython.core.display.HTML object>"
            ],
            "text/html": [
              "Waiting for W&B process to finish... <strong style=\"color:green\">(success).</strong>"
            ]
          },
          "metadata": {}
        },
        {
          "output_type": "display_data",
          "data": {
            "text/plain": [
              "VBox(children=(Label(value='0.001 MB of 0.010 MB uploaded (0.000 MB deduped)\\r'), FloatProgress(value=0.110379…"
            ],
            "application/vnd.jupyter.widget-view+json": {
              "version_major": 2,
              "version_minor": 0,
              "model_id": "41dae2a20a354b5aa3e31ffcd06b1dc6"
            }
          },
          "metadata": {}
        },
        {
          "output_type": "display_data",
          "data": {
            "text/plain": [
              "<IPython.core.display.HTML object>"
            ],
            "text/html": [
              "<style>\n",
              "    table.wandb td:nth-child(1) { padding: 0 10px; text-align: left ; width: auto;} td:nth-child(2) {text-align: left ; width: 100%}\n",
              "    .wandb-row { display: flex; flex-direction: row; flex-wrap: wrap; justify-content: flex-start; width: 100% }\n",
              "    .wandb-col { display: flex; flex-direction: column; flex-basis: 100%; flex: 1; padding: 10px; }\n",
              "    </style>\n",
              "<div class=\"wandb-row\"><div class=\"wandb-col\"><h3>Run history:</h3><br/><table class=\"wandb\"><tr><td>train_accuracy</td><td>▁▄▅▆▇▇▇███</td></tr><tr><td>train_loss</td><td>█▅▄▃▂▂▁▁▁▁</td></tr><tr><td>val_accuracy</td><td>▁▇▃█▇▇▆▇▅▅</td></tr><tr><td>val_loss</td><td>▃▁▃▁▃▄▄▇██</td></tr></table><br/></div><div class=\"wandb-col\"><h3>Run summary:</h3><br/><table class=\"wandb\"><tr><td>train_accuracy</td><td>94.81185</td></tr><tr><td>train_loss</td><td>0.15982</td></tr><tr><td>val_accuracy</td><td>76.55</td></tr><tr><td>val_loss</td><td>0.90927</td></tr></table><br/></div></div>"
            ]
          },
          "metadata": {}
        },
        {
          "output_type": "display_data",
          "data": {
            "text/plain": [
              "<IPython.core.display.HTML object>"
            ],
            "text/html": [
              " View run <strong style=\"color:#cdcd00\">eternal-sweep-4</strong> at: <a href='https://wandb.ai/shreyashgadgil007/CS6910-Assignment2/runs/cshp7j7o' target=\"_blank\">https://wandb.ai/shreyashgadgil007/CS6910-Assignment2/runs/cshp7j7o</a><br/>Synced 5 W&B file(s), 0 media file(s), 0 artifact file(s) and 0 other file(s)"
            ]
          },
          "metadata": {}
        },
        {
          "output_type": "display_data",
          "data": {
            "text/plain": [
              "<IPython.core.display.HTML object>"
            ],
            "text/html": [
              "Find logs at: <code>./wandb/run-20230411_185116-cshp7j7o/logs</code>"
            ]
          },
          "metadata": {}
        },
        {
          "output_type": "stream",
          "name": "stderr",
          "text": [
            "\u001b[34m\u001b[1mwandb\u001b[0m: Agent Starting Run: xegvjib4 with config:\n",
            "\u001b[34m\u001b[1mwandb\u001b[0m: \tbeta1: 0.95\n",
            "\u001b[34m\u001b[1mwandb\u001b[0m: \tfreeze_percent: 0.25\n",
            "\u001b[34m\u001b[1mwandb\u001b[0m: \tlearning_rate: 0.0001\n",
            "\u001b[34m\u001b[1mwandb\u001b[0m: \u001b[33mWARNING\u001b[0m Ignored wandb.init() arg project when running a sweep.\n",
            "\u001b[34m\u001b[1mwandb\u001b[0m: \u001b[33mWARNING\u001b[0m Ignored wandb.init() arg entity when running a sweep.\n"
          ]
        },
        {
          "output_type": "display_data",
          "data": {
            "text/plain": [
              "<IPython.core.display.HTML object>"
            ],
            "text/html": [
              "Tracking run with wandb version 0.14.2"
            ]
          },
          "metadata": {}
        },
        {
          "output_type": "display_data",
          "data": {
            "text/plain": [
              "<IPython.core.display.HTML object>"
            ],
            "text/html": [
              "Run data is saved locally in <code>/content/wandb/run-20230411_192607-xegvjib4</code>"
            ]
          },
          "metadata": {}
        },
        {
          "output_type": "display_data",
          "data": {
            "text/plain": [
              "<IPython.core.display.HTML object>"
            ],
            "text/html": [
              "Syncing run <strong><a href='https://wandb.ai/shreyashgadgil007/CS6910-Assignment2/runs/xegvjib4' target=\"_blank\">fast-sweep-5</a></strong> to <a href='https://wandb.ai/shreyashgadgil007/CS6910-Assignment2' target=\"_blank\">Weights & Biases</a> (<a href='https://wandb.me/run' target=\"_blank\">docs</a>)<br/>Sweep page: <a href='https://wandb.ai/shreyashgadgil007/CS6910-Assignment2/sweeps/2ju5fl58' target=\"_blank\">https://wandb.ai/shreyashgadgil007/CS6910-Assignment2/sweeps/2ju5fl58</a>"
            ]
          },
          "metadata": {}
        },
        {
          "output_type": "display_data",
          "data": {
            "text/plain": [
              "<IPython.core.display.HTML object>"
            ],
            "text/html": [
              " View project at <a href='https://wandb.ai/shreyashgadgil007/CS6910-Assignment2' target=\"_blank\">https://wandb.ai/shreyashgadgil007/CS6910-Assignment2</a>"
            ]
          },
          "metadata": {}
        },
        {
          "output_type": "display_data",
          "data": {
            "text/plain": [
              "<IPython.core.display.HTML object>"
            ],
            "text/html": [
              " View sweep at <a href='https://wandb.ai/shreyashgadgil007/CS6910-Assignment2/sweeps/2ju5fl58' target=\"_blank\">https://wandb.ai/shreyashgadgil007/CS6910-Assignment2/sweeps/2ju5fl58</a>"
            ]
          },
          "metadata": {}
        },
        {
          "output_type": "display_data",
          "data": {
            "text/plain": [
              "<IPython.core.display.HTML object>"
            ],
            "text/html": [
              " View run at <a href='https://wandb.ai/shreyashgadgil007/CS6910-Assignment2/runs/xegvjib4' target=\"_blank\">https://wandb.ai/shreyashgadgil007/CS6910-Assignment2/runs/xegvjib4</a>"
            ]
          },
          "metadata": {}
        },
        {
          "output_type": "stream",
          "name": "stdout",
          "text": [
            "Epoch 1/10--> Training_Loss:1.30; Train_Accuracy:60.46; Validation_Loss:0.73; Val_Accuracy:77.00\n",
            "Epoch 2/10--> Training_Loss:0.66; Train_Accuracy:78.83; Validation_Loss:0.61; Val_Accuracy:80.45\n",
            "Epoch 3/10--> Training_Loss:0.48; Train_Accuracy:84.57; Validation_Loss:0.57; Val_Accuracy:81.60\n",
            "Epoch 4/10--> Training_Loss:0.37; Train_Accuracy:88.39; Validation_Loss:0.65; Val_Accuracy:79.30\n"
          ]
        }
      ]
    }
  ]
}